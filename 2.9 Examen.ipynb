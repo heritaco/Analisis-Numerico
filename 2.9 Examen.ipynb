{
 "cells": [
  {
   "cell_type": "markdown",
   "metadata": {},
   "source": [
    "# Examen Parcial 2\n",
    "\n",
    "**Nombre:** Heriberto Espino Montelongo\n",
    "\n",
    "**Materia:** Análisis numérico\n",
    "\n",
    "**Sección:** 1\n",
    "\n",
    "**Fecha:** 14/10/2024"
   ]
  },
  {
   "cell_type": "markdown",
   "metadata": {},
   "source": [
    "Conteste las siguientes preguntas:\n",
    "1. ¿Es un sistema de ecuaciones lineales?.\n",
    "\n",
    "    A. Sí\n",
    "\n",
    "    B. No\n",
    "\n",
    "1. En caso afirmativo, conteste lo siguiente:\n",
    "\n",
    "    (a) ¿Cuál es la ecuación matricial Ax = b del sistema?\n",
    "\n",
    "    (b) ¿Cuál es la matriz aumentada asociada al sistema?\n",
    "\n",
    "    (c) ¿Es posible calcular el tamaño de A?\n",
    "\n",
    "    (d) ¿Es posible calcular el tamaño de b?\n",
    "\n",
    "    (e) ¿Es posible aplicar el método de Gauss-Jordan? En caso afirmativo, determine cuál es la forma escalonada reducida escalonada por renglones asociada a la matriz aumentada y con esta forma determine cuál es la solución del SEL. O en otro caso, justifique por qué no tiene solución.\n",
    "\n",
    "    (f) Determine cuál es la solución del SEL. O en otro caso, justifique por qué no tiene solución."
   ]
  },
  {
   "cell_type": "markdown",
   "metadata": {},
   "source": [
    "### Funciones"
   ]
  },
  {
   "cell_type": "code",
   "execution_count": 154,
   "metadata": {},
   "outputs": [],
   "source": [
    "import numpy as np\n",
    "\n",
    "def selsol(A, B):\n",
    "\n",
    "    print(\"Sí es un sistema de ecuaciones lineales\\n\")\n",
    "\n",
    "    # a) La ecuacuión matricial Ax = b del sistema -----------------------------------------------------------------\n",
    "    print(\"Ecuación matricial Ax = b del sistema\")\n",
    "\n",
    "    # Determine the width of the columns\n",
    "    col_width = max(len(\"{:.2f}\".format(num)) for row in A for num in row) + 2\n",
    "    vec_width = max(len(\"{:.2f}\".format(num)) for num in B.flatten()) + 2\n",
    "\n",
    "    # mprimir la ecuación matricial\n",
    "    for i in range(A.shape[0]):\n",
    "        row = [\"{:.2f}\".format(num).rjust(col_width) for num in A[i]]\n",
    "        if i == A.shape[0] // 2:\n",
    "            print(\"[{}]  *  [x{}]  =  [{}]\".format(\" \".join(row), i + 1, \"{:.2f}\".format(B[i, 0]).rjust(vec_width)))\n",
    "        else:\n",
    "            print(\"[{}]     [x{}]     [{}]\".format(\" \".join(row), i + 1, \"{:.2f}\".format(B[i, 0]).rjust(vec_width)))\n",
    "\n",
    "    # b) La matriz aumentada asociada al sistema ---------------------------------------------------------------------\n",
    "    C = np.concatenate((A, B), axis=1)\n",
    "    print(\"\\nMatriz aumentada asociada al sistema:\\n\", C, \"\\n\")\n",
    "\n",
    "    # Convertir a float para evitar problemas con la división\n",
    "    C = np.array(C, dtype=float)\n",
    "\n",
    "    sizeA = np.shape(A)\n",
    "    sizeB = np.shape(B)\n",
    "    sizeC = np.shape(C)\n",
    "\n",
    "    # C Y D, tamamño de A y B\n",
    "\n",
    "    print(\"Tamaño de A:\\n\", sizeA)\n",
    "    print(\"\\nTamaño de B:\\n\", sizeB)\n",
    "\n",
    "    # c) Determinante de A --------------------------------------------------------------------------------------------\n",
    "\n",
    "    # If determinant is close to zero, multiply C by 10 and recalculate\n",
    "    detA = np.linalg.det(A)\n",
    "\n",
    "    if np.isclose(detA, 0, 0.0001) and detA!=0:\n",
    "        while np.isclose(detA, 0, 0.0001) and detA!=0:\n",
    "            print(\"Posible error numérico. Multiplicando la matriz aumentada por 10 y recalculando.\")\n",
    "            C *= 10\n",
    "            A = C[:, :-1]\n",
    "            B = C[:, -1].reshape(-1, 1)\n",
    "            detA = np.linalg.det(A)\n",
    "            print(\"Nuevo determinante de A: \", detA)\n",
    "    else:\n",
    "        print(\"\\nDeterminante de A: \", detA)\n",
    "\n",
    "    # d) Determinante de B\n",
    "    try:\n",
    "        detB = np.linalg.det(B)\n",
    "        print(\"\\nDeterminante de B: \", detB)\n",
    "    except np.linalg.LinAlgError:\n",
    "        print(\"\\nNo es posible calcular el determinante de B porque no es una matriz cuadrada.\") # :p\n",
    "\n",
    "    # e) Aplicar el método de Gauss-Jordan -----------------------------------------------------------------------------\n",
    "    for c in range(sizeC[1] - 1):\n",
    "        if C[c][c] == 0:\n",
    "            for r in range(c + 1, sizeC[0]):\n",
    "                if C[r][c] != 0:\n",
    "                    C[[c, r]] = C[[r, c]]\n",
    "                    break\n",
    "\n",
    "        if C[c][c] != 0:\n",
    "            C[c, :] = C[c, :] / C[c][c]\n",
    "\n",
    "        for r in range(sizeC[0]):\n",
    "            if r != c:\n",
    "                C[r, :] = C[r, :] - C[r][c] * C[c, :]\n",
    "\n",
    "    # e) Matriz escalonada reducida -----------------------------------------------------------------------------------\n",
    "    print(\"\\nMatriz escalonada reducida por renglones de la matriz aumentada:\\n\", C)\n",
    "\n",
    "# e) Determine cuál es la solución del SEL. O en otro caso, justifique por qué no tiene solución ------------------    \n",
    "\n",
    "    if detA == 0:\n",
    "        print(\"\\nEl sistema no tiene solución o tiene infinitas soluciones, el determinante es 0.\")\n",
    "        pivotes = []  # Lista para almacenar las columnas de los pivotes\n",
    "\n",
    "    # Para cada row de la matriz escalonada reducida\n",
    "    for r in range(sizeC[0]):\n",
    "        # Caso: el sistema no tiene solución (alguna fila tiene todos 0, excepto el último)\n",
    "        if np.all(C[r, :-1] == 0) and C[r, -1] != 0:\n",
    "            print(\"\\nEl sistema no tiene solución.\")\n",
    "            return\n",
    "\n",
    "        # Caso: el sistema tiene infinitas soluciones (alguna fila tiene todos 0, incluyendo el último)\n",
    "        elif np.all(C[r, :-1] == 0) and C[r, -1] == 0:\n",
    "            print(\"\\nEl sistema tiene infinitas soluciones.\")\n",
    "            \n",
    "            # Imprimir las ecuaciones de las filas no nulas\n",
    "            for r in range(sizeC[0]):\n",
    "                if not np.all(C[r, :-1] == 0):\n",
    "                    ecuacion = \" + \".join([f\"{C[r, c]:.3f}*x{c+1}\" for c in range(sizeC[1] - 1) if C[r, c] != 0])\n",
    "                    print(f\"{ecuacion} = {C[r, -1]:.3f}\")\n",
    "                    # Registrar el índice de las variables pivote\n",
    "                    for c in range(sizeC[1] - 1):\n",
    "                        if C[r, c] != 0:\n",
    "                            pivotes.append(c)\n",
    "                            break\n",
    "            \n",
    "            # Identificar e imprimir las variables libres\n",
    "            va_lib = [f\"x{c+1}\" for c in range(sizeC[1] - 1) if c not in pivotes]\n",
    "            if va_lib:\n",
    "                for var in va_lib:\n",
    "                    print(f\"{var} ∈ ℝ\")\n",
    "            else:\n",
    "                print(\"\\nNo hay variables libres.\")\n",
    "            \n",
    "            return\n",
    "    solutions = np.linalg.solve(A, B)\n",
    "    print(\"\\nSoluciones del sistema:\")\n",
    "    for i, sol in enumerate(solutions):\n",
    "        print(f\"x{i+1} = {sol}\")\n",
    "    "
   ]
  },
  {
   "cell_type": "markdown",
   "metadata": {},
   "source": [
    "### Ejercicio 1\n",
    "\n",
    "$$\n",
    "x_1 - 2x_2 + 3x_3 = 11 \\\\\n",
    "4x_1 + x_2 - x_3 = 4 \\\\\n",
    "2x_1 - x_2 + 3x_3 = 10\n",
    "$$"
   ]
  },
  {
   "cell_type": "code",
   "execution_count": 155,
   "metadata": {},
   "outputs": [
    {
     "name": "stdout",
     "output_type": "stream",
     "text": [
      "Sí es un sistema de ecuaciones lineales\n",
      "\n",
      "Ecuación matricial Ax = b del sistema\n",
      "[   1.00   -2.00    3.00]     [x1]     [  11.00]\n",
      "[   4.00    1.00   -1.00]  *  [x2]  =  [   4.00]\n",
      "[   2.00   -1.00    3.00]     [x3]     [  10.00]\n",
      "\n",
      "Matriz aumentada asociada al sistema:\n",
      " [[ 1 -2  3 11]\n",
      " [ 4  1 -1  4]\n",
      " [ 2 -1  3 10]] \n",
      "\n",
      "Tamaño de A:\n",
      " (3, 3)\n",
      "\n",
      "Tamaño de B:\n",
      " (3, 1)\n",
      "\n",
      "Determinante de A:  11.999999999999995\n",
      "\n",
      "No es posible calcular el determinante de B porque no es una matriz cuadrada.\n",
      "\n",
      "Matriz escalonada reducida por renglones de la matriz aumentada:\n",
      " [[ 1.  0.  0.  2.]\n",
      " [ 0.  1.  0. -3.]\n",
      " [ 0.  0.  1.  1.]]\n",
      "\n",
      "Soluciones del sistema:\n",
      "x1 = [2.]\n",
      "x2 = [-3.]\n",
      "x3 = [1.]\n"
     ]
    }
   ],
   "source": [
    "A = np.array([[1, -2, 3], [4, 1, -1], [2, -1, 3]])\n",
    "B = np.array([[11], [4], [10]])\n",
    "\n",
    "selsol(A, B)"
   ]
  },
  {
   "cell_type": "markdown",
   "metadata": {},
   "source": [
    "### Ejercicio 2\n",
    "\n",
    "$$\n",
    "9x_2  -7x_3 = 2 \\\\\n",
    "- x_3 = -2 \\\\\n",
    "-3x_1 + 6x_2 + 8x_3 = 1\n",
    "$$"
   ]
  },
  {
   "cell_type": "code",
   "execution_count": 156,
   "metadata": {},
   "outputs": [
    {
     "name": "stdout",
     "output_type": "stream",
     "text": [
      "Sí es un sistema de ecuaciones lineales\n",
      "\n",
      "Ecuación matricial Ax = b del sistema\n",
      "[   0.00    9.00   -7.00]     [x1]     [   2.00]\n",
      "[   0.00    0.00   -1.00]  *  [x2]  =  [  -2.00]\n",
      "[  -3.00    6.00    8.00]     [x3]     [   1.00]\n",
      "\n",
      "Matriz aumentada asociada al sistema:\n",
      " [[ 0  9 -7  2]\n",
      " [ 0  0 -1 -2]\n",
      " [-3  6  8  1]] \n",
      "\n",
      "Tamaño de A:\n",
      " (3, 3)\n",
      "\n",
      "Tamaño de B:\n",
      " (3, 1)\n",
      "\n",
      "Determinante de A:  27.0\n",
      "\n",
      "No es posible calcular el determinante de B porque no es una matriz cuadrada.\n",
      "\n",
      "Matriz escalonada reducida por renglones de la matriz aumentada:\n",
      " [[ 1.          0.          0.          8.55555556]\n",
      " [ 0.          1.          0.          1.77777778]\n",
      " [-0.         -0.          1.          2.        ]]\n",
      "\n",
      "Soluciones del sistema:\n",
      "x1 = [8.55555556]\n",
      "x2 = [1.77777778]\n",
      "x3 = [2.]\n"
     ]
    }
   ],
   "source": [
    "A = np.array([[0, 9, -7], [0, 0, -1], [-3, 6, 8]])\n",
    "B = np.array([[2], [-2], [1]])\n",
    "\n",
    "selsol(A, B)"
   ]
  },
  {
   "cell_type": "markdown",
   "metadata": {},
   "source": [
    "### Ejercicio 3\n",
    "$$\n",
    "x_1 + 2x_2 - 2x_3 - x_4 = 1 \\\\\n",
    "-3x_1 + 4x_2 + x_3 - 2x_4 = 4 \\\\\n",
    "-3x_1 + 14x_2 - 4x_3 - 7x_4 = 3 \\\\\n",
    "6x_1 + 12x_2 - 12x_3 - 6x_4 = 5 \\\\\n",
    "$$"
   ]
  },
  {
   "cell_type": "code",
   "execution_count": 157,
   "metadata": {},
   "outputs": [
    {
     "name": "stdout",
     "output_type": "stream",
     "text": [
      "Sí es un sistema de ecuaciones lineales\n",
      "\n",
      "Ecuación matricial Ax = b del sistema\n",
      "[    1.00     2.00    -2.00    -1.00]     [x1]     [  1.00]\n",
      "[   -3.00     4.00     1.00    -2.00]     [x2]     [  4.00]\n",
      "[   -3.00    14.00    -4.00    -7.00]  *  [x3]  =  [  3.00]\n",
      "[    6.00    12.00   -12.00    -6.00]     [x4]     [  5.00]\n",
      "\n",
      "Matriz aumentada asociada al sistema:\n",
      " [[  1   2  -2  -1   1]\n",
      " [ -3   4   1  -2   4]\n",
      " [ -3  14  -4  -7   3]\n",
      " [  6  12 -12  -6   5]] \n",
      "\n",
      "Tamaño de A:\n",
      " (4, 4)\n",
      "\n",
      "Tamaño de B:\n",
      " (4, 1)\n",
      "\n",
      "Determinante de A:  0.0\n",
      "\n",
      "No es posible calcular el determinante de B porque no es una matriz cuadrada.\n",
      "\n",
      "Matriz escalonada reducida por renglones de la matriz aumentada:\n",
      " [[ 1.   0.  -1.   0.  -8.4]\n",
      " [ 0.   1.  -0.5 -0.5 -3.8]\n",
      " [ 0.   0.   0.   0.  -8. ]\n",
      " [ 0.   0.   0.   0.  -1. ]]\n",
      "\n",
      "El sistema no tiene solución o tiene infinitas soluciones, el determinante es 0.\n",
      "\n",
      "El sistema no tiene solución.\n"
     ]
    }
   ],
   "source": [
    "A = np.array([[1, 2, -2, -1], [-3, 4, 1, -2], [-3, 14, -4, -7], [6, 12, -12, -6]])\n",
    "B = np.array([[1], [4], [3], [5]])\n",
    "\n",
    "selsol(A, B)"
   ]
  },
  {
   "cell_type": "markdown",
   "metadata": {},
   "source": [
    "### Ejercicio 4\n",
    "\n",
    "$$\n",
    "-2x_1 + x_2 + 6x_3 = 18 \\\\\n",
    "5x_1 + 8x_3 = -16 \\\\\n",
    "3x_1 + 2x_2 - 10x_3 = -3\n",
    "$$"
   ]
  },
  {
   "cell_type": "code",
   "execution_count": 158,
   "metadata": {},
   "outputs": [
    {
     "name": "stdout",
     "output_type": "stream",
     "text": [
      "Sí es un sistema de ecuaciones lineales\n",
      "\n",
      "Ecuación matricial Ax = b del sistema\n",
      "[   -2.00     1.00     6.00]     [x1]     [   18.00]\n",
      "[    5.00     0.00     8.00]  *  [x2]  =  [  -16.00]\n",
      "[    3.00     2.00   -10.00]     [x3]     [   -3.00]\n",
      "\n",
      "Matriz aumentada asociada al sistema:\n",
      " [[ -2   1   6  18]\n",
      " [  5   0   8 -16]\n",
      " [  3   2 -10  -3]] \n",
      "\n",
      "Tamaño de A:\n",
      " (3, 3)\n",
      "\n",
      "Tamaño de B:\n",
      " (3, 1)\n",
      "\n",
      "Determinante de A:  166.00000000000006\n",
      "\n",
      "No es posible calcular el determinante de B porque no es una matriz cuadrada.\n",
      "\n",
      "Matriz escalonada reducida por renglones de la matriz aumentada:\n",
      " [[ 1.   0.   0.  -4. ]\n",
      " [ 0.   1.   0.   7. ]\n",
      " [-0.  -0.   1.   0.5]]\n",
      "\n",
      "Soluciones del sistema:\n",
      "x1 = [-4.]\n",
      "x2 = [7.]\n",
      "x3 = [0.5]\n"
     ]
    }
   ],
   "source": [
    "A = np.array([[-2, 1, 6], [5, 0, 8], [3, 2, -10]])\n",
    "B = np.array([[18], [-16], [-3]])\n",
    "\n",
    "selsol(A, B)"
   ]
  },
  {
   "cell_type": "markdown",
   "metadata": {},
   "source": [
    "### Ejercicio 5\n",
    "\n",
    "$$\n",
    "3x_1 + 6x_2 - 6x_3 = 9 \\\\\n",
    "2x_1 - 5x_2 + 4x_3 = 6 \\\\\n",
    "5x_1 + 28x_2 - 26x_3 = -8\n",
    "$$"
   ]
  },
  {
   "cell_type": "code",
   "execution_count": 159,
   "metadata": {},
   "outputs": [
    {
     "name": "stdout",
     "output_type": "stream",
     "text": [
      "Sí es un sistema de ecuaciones lineales\n",
      "\n",
      "Ecuación matricial Ax = b del sistema\n",
      "[    3.00     6.00    -6.00]     [x1]     [   9.00]\n",
      "[    2.00    -5.00     4.00]  *  [x2]  =  [   6.00]\n",
      "[    5.00    28.00   -26.00]     [x3]     [  -8.00]\n",
      "\n",
      "Matriz aumentada asociada al sistema:\n",
      " [[  3   6  -6   9]\n",
      " [  2  -5   4   6]\n",
      " [  5  28 -26  -8]] \n",
      "\n",
      "Tamaño de A:\n",
      " (3, 3)\n",
      "\n",
      "Tamaño de B:\n",
      " (3, 1)\n",
      "Posible error numérico. Multiplicando la matriz aumentada por 10 y recalculando.\n",
      "Nuevo determinante de A:  0.0\n",
      "\n",
      "No es posible calcular el determinante de B porque no es una matriz cuadrada.\n",
      "\n",
      "Matriz escalonada reducida por renglones de la matriz aumentada:\n",
      " [[ 1.00000000e+00  0.00000000e+00 -2.22222222e-01 -4.81111111e+01]\n",
      " [ 0.00000000e+00  1.00000000e+00 -8.88888889e-01 -2.04444444e+02]\n",
      " [ 0.00000000e+00  0.00000000e+00  0.00000000e+00 -2.30000000e+02]]\n",
      "\n",
      "El sistema no tiene solución o tiene infinitas soluciones, el determinante es 0.\n",
      "\n",
      "El sistema no tiene solución.\n"
     ]
    }
   ],
   "source": [
    "A = np.array([[3, 6, -6], [2, -5, 4], [5, 28, -26]])\n",
    "B = np.array([[9], [6], [-8]])\n",
    "\n",
    "selsol(A, B)"
   ]
  },
  {
   "cell_type": "markdown",
   "metadata": {},
   "source": [
    "### Ejercicio 6\n",
    "\n",
    "$$\n",
    "x_1 - 2x_2 + x_3 + x_4 = 2 \\\\\n",
    "3x_1 + 2x_3 - 2x_4 = -8 \\\\\n",
    "4x_2 - x_3 - x_4 = 1 \\\\\n",
    "5x_1 + 3x_3 - x_4 = 0 \\\\\n",
    "$$"
   ]
  },
  {
   "cell_type": "code",
   "execution_count": 160,
   "metadata": {},
   "outputs": [
    {
     "name": "stdout",
     "output_type": "stream",
     "text": [
      "Sí es un sistema de ecuaciones lineales\n",
      "\n",
      "Ecuación matricial Ax = b del sistema\n",
      "[   1.00   -2.00    1.00    1.00]     [x1]     [   2.00]\n",
      "[   3.00    0.00    2.00   -2.00]     [x2]     [  -8.00]\n",
      "[   0.00    4.00   -1.00   -1.00]  *  [x3]  =  [   1.00]\n",
      "[   5.00    0.00    3.00   -1.00]     [x4]     [   0.00]\n",
      "\n",
      "Matriz aumentada asociada al sistema:\n",
      " [[ 1 -2  1  1  2]\n",
      " [ 3  0  2 -2 -8]\n",
      " [ 0  4 -1 -1  1]\n",
      " [ 5  0  3 -1  0]] \n",
      "\n",
      "Tamaño de A:\n",
      " (4, 4)\n",
      "\n",
      "Tamaño de B:\n",
      " (4, 1)\n",
      "Posible error numérico. Multiplicando la matriz aumentada por 10 y recalculando.\n",
      "Nuevo determinante de A:  0.0\n",
      "\n",
      "No es posible calcular el determinante de B porque no es una matriz cuadrada.\n",
      "\n",
      "Matriz escalonada reducida por renglones de la matriz aumentada:\n",
      " [[ 1.00000000e+00  0.00000000e+00  0.00000000e+00  0.00000000e+00\n",
      "   3.37769972e+16]\n",
      " [ 0.00000000e+00  1.00000000e+00  0.00000000e+00  0.00000000e+00\n",
      "  -1.68884986e+16]\n",
      " [-0.00000000e+00 -0.00000000e+00  1.00000000e+00  0.00000000e+00\n",
      "  -5.91097451e+16]\n",
      " [-0.00000000e+00 -0.00000000e+00 -0.00000000e+00  1.00000000e+00\n",
      "  -8.44424930e+15]]\n",
      "\n",
      "El sistema no tiene solución o tiene infinitas soluciones, el determinante es 0.\n",
      "\n",
      "Soluciones del sistema:\n",
      "x1 = [3.37769972e+16]\n",
      "x2 = [-1.68884986e+16]\n",
      "x3 = [-5.91097451e+16]\n",
      "x4 = [-8.4442493e+15]\n"
     ]
    }
   ],
   "source": [
    "A = np.array([[1, -2, 1, 1], [3, 0, 2, -2], [0, 4, -1, -1], [5, 0, 3, -1]])\n",
    "B = np.array([[2], [-8], [1], [0]])\n",
    "\n",
    "selsol(A, B)"
   ]
  },
  {
   "cell_type": "markdown",
   "metadata": {},
   "source": [
    "En este caso le hacemos caso a \"El sistema no tiene solución o tiene infinitas soluciones, el determinante es 0\"."
   ]
  },
  {
   "cell_type": "markdown",
   "metadata": {},
   "source": [
    "### Ejercicio 7\n",
    "\n",
    "$$\n",
    "3x_1 + 6x_2 - 6x_3 = 9 \\\\\n",
    "2x_1 - 5x_2 + 4x_3 = 6 \\\\\n",
    "-x_1 + 16x_2 - 14x_3 = -3\n",
    "$$"
   ]
  },
  {
   "cell_type": "code",
   "execution_count": 161,
   "metadata": {},
   "outputs": [
    {
     "name": "stdout",
     "output_type": "stream",
     "text": [
      "Sí es un sistema de ecuaciones lineales\n",
      "\n",
      "Ecuación matricial Ax = b del sistema\n",
      "[    3.00     6.00    -6.00]     [x1]     [   9.00]\n",
      "[    2.00    -5.00     4.00]  *  [x2]  =  [   6.00]\n",
      "[   -1.00    16.00   -14.00]     [x3]     [  -3.00]\n",
      "\n",
      "Matriz aumentada asociada al sistema:\n",
      " [[  3   6  -6   9]\n",
      " [  2  -5   4   6]\n",
      " [ -1  16 -14  -3]] \n",
      "\n",
      "Tamaño de A:\n",
      " (3, 3)\n",
      "\n",
      "Tamaño de B:\n",
      " (3, 1)\n",
      "\n",
      "Determinante de A:  0.0\n",
      "\n",
      "No es posible calcular el determinante de B porque no es una matriz cuadrada.\n",
      "\n",
      "Matriz escalonada reducida por renglones de la matriz aumentada:\n",
      " [[ 1.          0.         -0.22222222  3.        ]\n",
      " [ 0.          1.         -0.88888889  0.        ]\n",
      " [ 0.          0.          0.          0.        ]]\n",
      "\n",
      "El sistema no tiene solución o tiene infinitas soluciones, el determinante es 0.\n",
      "\n",
      "El sistema tiene infinitas soluciones.\n",
      "1.000*x1 + -0.222*x3 = 3.000\n",
      "1.000*x2 + -0.889*x3 = 0.000\n",
      "x3 ∈ ℝ\n"
     ]
    }
   ],
   "source": [
    "A = np.array([[3, 6, -6], [2, -5, 4], [-1, 16, -14]])\n",
    "B = np.array([[9], [6], [-3]])\n",
    "\n",
    "selsol(A, B)"
   ]
  },
  {
   "cell_type": "markdown",
   "metadata": {},
   "source": [
    "### Ejercicio 8\n",
    "\n",
    "$$\n",
    "x_1 + x_2 - x_3 = 7 \\\\\n",
    "4x_1 - x_2 + 5x_3 = 4 \\\\\n",
    "2x_1 + 2x_2 - 3x_3 = 0\n",
    "$$"
   ]
  },
  {
   "cell_type": "code",
   "execution_count": 163,
   "metadata": {},
   "outputs": [
    {
     "name": "stdout",
     "output_type": "stream",
     "text": [
      "Sí es un sistema de ecuaciones lineales\n",
      "\n",
      "Ecuación matricial Ax = b del sistema\n",
      "[   1.00    1.00   -1.00]     [x1]     [  7.00]\n",
      "[   4.00   -1.00    5.00]  *  [x2]  =  [  4.00]\n",
      "[   2.00    2.00   -3.00]     [x3]     [  0.00]\n",
      "\n",
      "Matriz aumentada asociada al sistema:\n",
      " [[ 1  1 -1  7]\n",
      " [ 4 -1  5  4]\n",
      " [ 2  2 -3  0]] \n",
      "\n",
      "Tamaño de A:\n",
      " (3, 3)\n",
      "\n",
      "Tamaño de B:\n",
      " (3, 1)\n",
      "\n",
      "Determinante de A:  5.000000000000001\n",
      "\n",
      "No es posible calcular el determinante de B porque no es una matriz cuadrada.\n",
      "\n",
      "Matriz escalonada reducida por renglones de la matriz aumentada:\n",
      " [[ 1.  0.  0. -9.]\n",
      " [-0.  1.  0. 30.]\n",
      " [-0. -0.  1. 14.]]\n",
      "\n",
      "Soluciones del sistema:\n",
      "x1 = [-9.]\n",
      "x2 = [30.]\n",
      "x3 = [14.]\n"
     ]
    }
   ],
   "source": [
    "A = np.array([[1, 1, -1], [4, -1, 5], [2, 2, -3]])\n",
    "B = np.array([[7], [4], [0]])\n",
    "\n",
    "selsol(A, B)"
   ]
  },
  {
   "cell_type": "markdown",
   "metadata": {},
   "source": [
    "### Ejercicio 9\n",
    "\n",
    "$$\n",
    "x_1 + 2x_2 + 2x_3 - x_4 = 1 \\\\\n",
    "-3x_1 + 4x_2 + x_3 - 2x_4 = 4 \\\\\n",
    "-3x_1 + 14x_2 + 4x_3 - 7x_4 = 3 \\\\\n",
    "6x_1 + 12x_2 - 12x_3 - 6x_4 = 5 \\\\\n",
    "$$"
   ]
  },
  {
   "cell_type": "code",
   "execution_count": 164,
   "metadata": {},
   "outputs": [
    {
     "name": "stdout",
     "output_type": "stream",
     "text": [
      "Sí es un sistema de ecuaciones lineales\n",
      "\n",
      "Ecuación matricial Ax = b del sistema\n",
      "[    1.00     2.00     2.00    -1.00]     [x1]     [  1.00]\n",
      "[   -3.00     4.00     1.00    -2.00]     [x2]     [  4.00]\n",
      "[   -3.00    14.00     4.00    -7.00]  *  [x3]  =  [  3.00]\n",
      "[    6.00    12.00   -12.00    -6.00]     [x4]     [  5.00]\n",
      "\n",
      "Matriz aumentada asociada al sistema:\n",
      " [[  1   2   2  -1   1]\n",
      " [ -3   4   1  -2   4]\n",
      " [ -3  14   4  -7   3]\n",
      " [  6  12 -12  -6   5]] \n",
      "\n",
      "Tamaño de A:\n",
      " (4, 4)\n",
      "\n",
      "Tamaño de B:\n",
      " (4, 1)\n",
      "\n",
      "Determinante de A:  0.0\n",
      "\n",
      "No es posible calcular el determinante de B porque no es una matriz cuadrada.\n",
      "\n",
      "Matriz escalonada reducida por renglones de la matriz aumentada:\n",
      " [[ 1.   0.   0.   0.  -1.6]\n",
      " [ 0.   1.   0.  -0.5 22.8]\n",
      " [ 0.   0.   1.   0.   2. ]\n",
      " [ 0.   0.   0.   0.  47. ]]\n",
      "\n",
      "El sistema no tiene solución o tiene infinitas soluciones, el determinante es 0.\n",
      "\n",
      "El sistema no tiene solución.\n"
     ]
    }
   ],
   "source": [
    "A = np.array([[1, 2, 2, -1], [-3, 4, 1, -2], [-3, 14, 4, -7], [6, 12, -12, -6]])\n",
    "B = np.array([[1], [4], [3], [5]])\n",
    "\n",
    "selsol(A, B)"
   ]
  },
  {
   "cell_type": "markdown",
   "metadata": {},
   "source": [
    "### Ejercicio 10\n",
    "\n",
    "$$\n",
    "3x^{1/2} - 2y = 4 \\\\\n",
    "5x + 2y = 12\n",
    "$$"
   ]
  },
  {
   "cell_type": "markdown",
   "metadata": {},
   "source": [
    "No es un sistema de ecuaciones lineales porque hay un $x^{1/2}$"
   ]
  }
 ],
 "metadata": {
  "kernelspec": {
   "display_name": "Python 3",
   "language": "python",
   "name": "python3"
  },
  "language_info": {
   "codemirror_mode": {
    "name": "ipython",
    "version": 3
   },
   "file_extension": ".py",
   "mimetype": "text/x-python",
   "name": "python",
   "nbconvert_exporter": "python",
   "pygments_lexer": "ipython3",
   "version": "3.12.1"
  }
 },
 "nbformat": 4,
 "nbformat_minor": 2
}
