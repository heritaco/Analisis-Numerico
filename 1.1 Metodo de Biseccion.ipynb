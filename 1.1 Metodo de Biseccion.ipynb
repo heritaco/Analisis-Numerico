{
 "cells": [
  {
   "cell_type": "markdown",
   "metadata": {},
   "source": [
    "# Método de Bisección\n",
    "\n",
    "**Nombre:** Heriberto Espino Montelongo\n",
    "\n",
    "**Materia:** Análisis Numérico\n",
    "\n",
    "**Sección:** 1\n",
    "\n",
    "**Fecha:** 14/08/2024"
   ]
  },
  {
   "cell_type": "markdown",
   "metadata": {},
   "source": [
    "El **método de bisección** para encontrar raíces de una función. Este método está basado en el **Teorema del Valor Intermedio**.\n",
    "\n",
    "El **Teorema del Valor Intermedio** establece que si _f_  es una función continua en un intervalo [a, b] y _f_(a) y _f_(b) tienen signos opuestos, entonces existe al menos un número  c  en el intervalo (a, b) tal que  _f_(c) = 0.\n",
    "\n",
    "El método de bisección usa este teorema para encontrar iterativamente el valor de  c  que hace que  _f_(c) = 0  dentro de un intervalo dado [a, b], dividiendo repetidamente el intervalo a la mitad hasta que se encuentra un valor de  c  que aproxima la raíz con una precisión dada `tol`."
   ]
  },
  {
   "cell_type": "code",
   "execution_count": 9,
   "metadata": {},
   "outputs": [],
   "source": [
    "import numpy as np\n",
    "\n",
    "def my_bisection(f, a, b, tol):\n",
    "    \n",
    "    if np.sign(f(a)) == np.sign(f(b)):\n",
    "        raise Exception(\"The scalars a and b do not bracket a root\")\n",
    "    \n",
    "    m = (a + b) / 2\n",
    "\n",
    "    if np.abs(f(m)) < tol:\n",
    "        return m\n",
    "    elif np.sign(f(m)) == np.sign(f(a)):\n",
    "        return my_bisection(f, m, b, tol)\n",
    "    elif np.sign(f(m)) == np.sign(f(b)):\n",
    "        return my_bisection(f, a, m, tol)\n",
    "    "
   ]
  },
  {
   "cell_type": "code",
   "execution_count": 10,
   "metadata": {},
   "outputs": [
    {
     "name": "stdout",
     "output_type": "stream",
     "text": [
      "Example 1\n",
      "The solution for the equation is 1.4375\n"
     ]
    }
   ],
   "source": [
    "print(\"Example 1\")\n",
    "\n",
    "f = lambda x: x**2 - 2\n",
    "\n",
    "root = my_bisection(f, 0, 2, 0.1)\n",
    "print(\"The solution for the equation is\", root)"
   ]
  },
  {
   "cell_type": "code",
   "execution_count": 11,
   "metadata": {},
   "outputs": [
    {
     "name": "stdout",
     "output_type": "stream",
     "text": [
      "Example 2\n",
      "The solution for the equation is:  1.365234375\n"
     ]
    }
   ],
   "source": [
    "print(\"Example 2\")\n",
    "\n",
    "f = lambda x: x**3 +4*x**2 -10\n",
    "\n",
    "root= my_bisection(f, 1, 2, 0.0001)\n",
    "print(\"The solution for the equation is: \", root)"
   ]
  },
  {
   "cell_type": "code",
   "execution_count": 12,
   "metadata": {},
   "outputs": [
    {
     "name": "stdout",
     "output_type": "stream",
     "text": [
      "Example 3\n",
      "The solution for the equation is:  0.6416015625\n"
     ]
    }
   ],
   "source": [
    "print(\"Example 3\")\n",
    "\n",
    "f = lambda x: np.sqrt(x) - np.cos(x)\n",
    "\n",
    "root= my_bisection(f, 0, 1, 1e-3)\n",
    "print(\"The solution for the equation is: \", root)"
   ]
  },
  {
   "cell_type": "code",
   "execution_count": 13,
   "metadata": {},
   "outputs": [
    {
     "name": "stdout",
     "output_type": "stream",
     "text": [
      "Exercise 1\n",
      "The solution for the equation is:  0.6411895751953125\n"
     ]
    }
   ],
   "source": [
    "print(\"Exercise 1\")\n",
    "\n",
    "f = lambda x: x - 2**(-x)\n",
    "\n",
    "root= my_bisection(f,0,1,1e-5)\n",
    "\n",
    "print(\"The solution for the equation is: \", root)"
   ]
  },
  {
   "cell_type": "code",
   "execution_count": 14,
   "metadata": {},
   "outputs": [
    {
     "name": "stdout",
     "output_type": "stream",
     "text": [
      "Exercise 2\n",
      "The solution for the equation is:  -0.6808662414550781\n"
     ]
    }
   ],
   "source": [
    "print(\"Exercise 2\")\n",
    "\n",
    "f = lambda x: np.exp(x) -x**2 +3*x +2\n",
    "\n",
    "root= my_bisection(f,(-1),0,1e-5)\n",
    "\n",
    "print(\"The solution for the equation is: \", root)"
   ]
  },
  {
   "cell_type": "code",
   "execution_count": 15,
   "metadata": {},
   "outputs": [
    {
     "name": "stdout",
     "output_type": "stream",
     "text": [
      "Exercise 3\n",
      "The solution for the equation is:  -2.1913070678710938\n",
      "The solution for the equation is:  -0.7981605529785156\n"
     ]
    }
   ],
   "source": [
    "print(\"Exercise 3\")\n",
    "\n",
    "f = lambda x: 2*x*np.cos(2*x) - (x+1)**2\n",
    "\n",
    "root= my_bisection(f,-3,-2,1e-5)\n",
    "print(\"The solution for the equation is: \", root)\n",
    "\n",
    "root= my_bisection(f,-1,0,1e-5)\n",
    "print(\"The solution for the equation is: \", root)"
   ]
  },
  {
   "cell_type": "code",
   "execution_count": 16,
   "metadata": {},
   "outputs": [
    {
     "name": "stdout",
     "output_type": "stream",
     "text": [
      "Exercise 4\n",
      "The solution for the equation is:  0.29752807617187504\n",
      "The solution for the equation is:  1.256622314453125\n"
     ]
    }
   ],
   "source": [
    "print(\"Exercise 4\")\n",
    "\n",
    "f = lambda x: x*np.cos(x) - 2*x**2 +3*x -1\n",
    "\n",
    "root= my_bisection(f,0.2,0.3,1e-5)\n",
    "print(\"The solution for the equation is: \", root)\n",
    "\n",
    "root= my_bisection(f,1.2,1.3,1e-5)\n",
    "print(\"The solution for the equation is: \", root)"
   ]
  }
 ],
 "metadata": {
  "kernelspec": {
   "display_name": "Python 3",
   "language": "python",
   "name": "python3"
  },
  "language_info": {
   "codemirror_mode": {
    "name": "ipython",
    "version": 3
   },
   "file_extension": ".py",
   "mimetype": "text/x-python",
   "name": "python",
   "nbconvert_exporter": "python",
   "pygments_lexer": "ipython3",
   "version": "3.12.1"
  }
 },
 "nbformat": 4,
 "nbformat_minor": 2
}
