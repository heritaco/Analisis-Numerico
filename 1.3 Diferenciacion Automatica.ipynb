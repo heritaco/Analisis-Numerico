{
 "cells": [
  {
   "cell_type": "markdown",
   "metadata": {},
   "source": [
    "# Diferenciación Automática\n",
    "\n",
    "**Nombre:** Heriberto Espino Montelongo\n",
    "\n",
    "**Materia:** Análisis numérico\n",
    "\n",
    "**Sección:** 1\n",
    "\n",
    "**Fecha:** 26/08/2024"
   ]
  },
  {
   "cell_type": "markdown",
   "metadata": {},
   "source": [
    "Para no derivar a mano vamos a entender sympy."
   ]
  },
  {
   "cell_type": "code",
   "execution_count": 2,
   "metadata": {},
   "outputs": [],
   "source": [
    "import sympy as sp\n",
    "from sympy.abc import x\n",
    "from sympy import lambdify"
   ]
  },
  {
   "cell_type": "code",
   "execution_count": 4,
   "metadata": {},
   "outputs": [
    {
     "name": "stdout",
     "output_type": "stream",
     "text": [
      "f = x**2 - 2\n",
      "type f = <class 'str'>\n",
      "Df = 2*x\n",
      "type Df = <class 'sympy.core.mul.Mul'>\n"
     ]
    }
   ],
   "source": [
    "# Example 1\n",
    "\n",
    "f = 'x**2 - 2'\n",
    "Df = sp.diff(f, x) # nos da la derivada de f\n",
    "\n",
    "print(\"Df =\", Df)"
   ]
  },
  {
   "cell_type": "markdown",
   "metadata": {},
   "source": [
    "La derivada de $x^2 - 1$ es $2x$"
   ]
  },
  {
   "cell_type": "code",
   "execution_count": 53,
   "metadata": {},
   "outputs": [
    {
     "ename": "TypeError",
     "evalue": "'str' object is not callable",
     "output_type": "error",
     "traceback": [
      "\u001b[1;31m---------------------------------------------------------------------------\u001b[0m",
      "\u001b[1;31mTypeError\u001b[0m                                 Traceback (most recent call last)",
      "Cell \u001b[1;32mIn[53], line 1\u001b[0m\n\u001b[1;32m----> 1\u001b[0m \u001b[38;5;28mprint\u001b[39m(\u001b[43mf\u001b[49m\u001b[43m(\u001b[49m\u001b[38;5;241;43m1\u001b[39;49m\u001b[43m)\u001b[49m)\n",
      "\u001b[1;31mTypeError\u001b[0m: 'str' object is not callable"
     ]
    }
   ],
   "source": [
    "print(f(1))"
   ]
  },
  {
   "cell_type": "markdown",
   "metadata": {},
   "source": [
    "Nos da error porque usamos f como un str, no podemos evaluar una str"
   ]
  },
  {
   "cell_type": "code",
   "execution_count": 54,
   "metadata": {},
   "outputs": [
    {
     "name": "stdout",
     "output_type": "stream",
     "text": [
      "-1\n",
      "<class 'function'>\n",
      "<class 'str'>\n"
     ]
    }
   ],
   "source": [
    "f_str = 'x**2 - 2'\n",
    "\n",
    "f_function = lambda x: x**2 - 2\n",
    "\n",
    "print(f_function(1))\n",
    "\n",
    "print(type(f_function))\n",
    "print(type(f_str))"
   ]
  },
  {
   "cell_type": "code",
   "execution_count": 55,
   "metadata": {},
   "outputs": [
    {
     "ename": "SympifyError",
     "evalue": "SympifyError: \"cannot sympify object of type <class 'function'>\"",
     "output_type": "error",
     "traceback": [
      "\u001b[1;31m---------------------------------------------------------------------------\u001b[0m",
      "\u001b[1;31mSympifyError\u001b[0m                              Traceback (most recent call last)",
      "Cell \u001b[1;32mIn[55], line 1\u001b[0m\n\u001b[1;32m----> 1\u001b[0m Df \u001b[38;5;241m=\u001b[39m \u001b[43msp\u001b[49m\u001b[38;5;241;43m.\u001b[39;49m\u001b[43mdiff\u001b[49m\u001b[43m(\u001b[49m\u001b[43mf_function\u001b[49m\u001b[43m,\u001b[49m\u001b[43m \u001b[49m\u001b[43mx\u001b[49m\u001b[43m)\u001b[49m \n",
      "File \u001b[1;32mc:\\Users\\herie\\AppData\\Local\\Programs\\Python\\Python312\\Lib\\site-packages\\sympy\\core\\function.py:2483\u001b[0m, in \u001b[0;36mdiff\u001b[1;34m(f, *symbols, **kwargs)\u001b[0m\n\u001b[0;32m   2481\u001b[0m     \u001b[38;5;28;01mreturn\u001b[39;00m f\u001b[38;5;241m.\u001b[39mdiff(\u001b[38;5;241m*\u001b[39msymbols, \u001b[38;5;241m*\u001b[39m\u001b[38;5;241m*\u001b[39mkwargs)\n\u001b[0;32m   2482\u001b[0m kwargs\u001b[38;5;241m.\u001b[39msetdefault(\u001b[38;5;124m'\u001b[39m\u001b[38;5;124mevaluate\u001b[39m\u001b[38;5;124m'\u001b[39m, \u001b[38;5;28;01mTrue\u001b[39;00m)\n\u001b[1;32m-> 2483\u001b[0m \u001b[38;5;28;01mreturn\u001b[39;00m \u001b[43m_derivative_dispatch\u001b[49m\u001b[43m(\u001b[49m\u001b[43mf\u001b[49m\u001b[43m,\u001b[49m\u001b[43m \u001b[49m\u001b[38;5;241;43m*\u001b[39;49m\u001b[43msymbols\u001b[49m\u001b[43m,\u001b[49m\u001b[43m \u001b[49m\u001b[38;5;241;43m*\u001b[39;49m\u001b[38;5;241;43m*\u001b[39;49m\u001b[43mkwargs\u001b[49m\u001b[43m)\u001b[49m\n",
      "File \u001b[1;32mc:\\Users\\herie\\AppData\\Local\\Programs\\Python\\Python312\\Lib\\site-packages\\sympy\\core\\function.py:1908\u001b[0m, in \u001b[0;36m_derivative_dispatch\u001b[1;34m(expr, *variables, **kwargs)\u001b[0m\n\u001b[0;32m   1906\u001b[0m     \u001b[38;5;28;01mfrom\u001b[39;00m \u001b[38;5;21;01msympy\u001b[39;00m\u001b[38;5;21;01m.\u001b[39;00m\u001b[38;5;21;01mtensor\u001b[39;00m\u001b[38;5;21;01m.\u001b[39;00m\u001b[38;5;21;01marray\u001b[39;00m\u001b[38;5;21;01m.\u001b[39;00m\u001b[38;5;21;01marray_derivatives\u001b[39;00m \u001b[38;5;28;01mimport\u001b[39;00m ArrayDerivative\n\u001b[0;32m   1907\u001b[0m     \u001b[38;5;28;01mreturn\u001b[39;00m ArrayDerivative(expr, \u001b[38;5;241m*\u001b[39mvariables, \u001b[38;5;241m*\u001b[39m\u001b[38;5;241m*\u001b[39mkwargs)\n\u001b[1;32m-> 1908\u001b[0m \u001b[38;5;28;01mreturn\u001b[39;00m \u001b[43mDerivative\u001b[49m\u001b[43m(\u001b[49m\u001b[43mexpr\u001b[49m\u001b[43m,\u001b[49m\u001b[43m \u001b[49m\u001b[38;5;241;43m*\u001b[39;49m\u001b[43mvariables\u001b[49m\u001b[43m,\u001b[49m\u001b[43m \u001b[49m\u001b[38;5;241;43m*\u001b[39;49m\u001b[38;5;241;43m*\u001b[39;49m\u001b[43mkwargs\u001b[49m\u001b[43m)\u001b[49m\n",
      "File \u001b[1;32mc:\\Users\\herie\\AppData\\Local\\Programs\\Python\\Python312\\Lib\\site-packages\\sympy\\core\\function.py:1233\u001b[0m, in \u001b[0;36mDerivative.__new__\u001b[1;34m(cls, expr, *variables, **kwargs)\u001b[0m\n\u001b[0;32m   1232\u001b[0m \u001b[38;5;28;01mdef\u001b[39;00m \u001b[38;5;21m__new__\u001b[39m(\u001b[38;5;28mcls\u001b[39m, expr, \u001b[38;5;241m*\u001b[39mvariables, \u001b[38;5;241m*\u001b[39m\u001b[38;5;241m*\u001b[39mkwargs):\n\u001b[1;32m-> 1233\u001b[0m     expr \u001b[38;5;241m=\u001b[39m \u001b[43msympify\u001b[49m\u001b[43m(\u001b[49m\u001b[43mexpr\u001b[49m\u001b[43m)\u001b[49m\n\u001b[0;32m   1234\u001b[0m     symbols_or_none \u001b[38;5;241m=\u001b[39m \u001b[38;5;28mgetattr\u001b[39m(expr, \u001b[38;5;124m\"\u001b[39m\u001b[38;5;124mfree_symbols\u001b[39m\u001b[38;5;124m\"\u001b[39m, \u001b[38;5;28;01mNone\u001b[39;00m)\n\u001b[0;32m   1235\u001b[0m     has_symbol_set \u001b[38;5;241m=\u001b[39m \u001b[38;5;28misinstance\u001b[39m(symbols_or_none, \u001b[38;5;28mset\u001b[39m)\n",
      "File \u001b[1;32mc:\\Users\\herie\\AppData\\Local\\Programs\\Python\\Python312\\Lib\\site-packages\\sympy\\core\\sympify.py:465\u001b[0m, in \u001b[0;36msympify\u001b[1;34m(a, locals, convert_xor, strict, rational, evaluate)\u001b[0m\n\u001b[0;32m    462\u001b[0m         \u001b[38;5;28;01mpass\u001b[39;00m\n\u001b[0;32m    464\u001b[0m \u001b[38;5;28;01mif\u001b[39;00m \u001b[38;5;129;01mnot\u001b[39;00m \u001b[38;5;28misinstance\u001b[39m(a, \u001b[38;5;28mstr\u001b[39m):\n\u001b[1;32m--> 465\u001b[0m     \u001b[38;5;28;01mraise\u001b[39;00m SympifyError(\u001b[38;5;124m'\u001b[39m\u001b[38;5;124mcannot sympify object of type \u001b[39m\u001b[38;5;132;01m%r\u001b[39;00m\u001b[38;5;124m'\u001b[39m \u001b[38;5;241m%\u001b[39m \u001b[38;5;28mtype\u001b[39m(a))\n\u001b[0;32m    467\u001b[0m \u001b[38;5;28;01mfrom\u001b[39;00m \u001b[38;5;21;01msympy\u001b[39;00m\u001b[38;5;21;01m.\u001b[39;00m\u001b[38;5;21;01mparsing\u001b[39;00m\u001b[38;5;21;01m.\u001b[39;00m\u001b[38;5;21;01msympy_parser\u001b[39;00m \u001b[38;5;28;01mimport\u001b[39;00m (parse_expr, TokenError,\n\u001b[0;32m    468\u001b[0m                                         standard_transformations)\n\u001b[0;32m    469\u001b[0m \u001b[38;5;28;01mfrom\u001b[39;00m \u001b[38;5;21;01msympy\u001b[39;00m\u001b[38;5;21;01m.\u001b[39;00m\u001b[38;5;21;01mparsing\u001b[39;00m\u001b[38;5;21;01m.\u001b[39;00m\u001b[38;5;21;01msympy_parser\u001b[39;00m \u001b[38;5;28;01mimport\u001b[39;00m convert_xor \u001b[38;5;28;01mas\u001b[39;00m t_convert_xor\n",
      "\u001b[1;31mSympifyError\u001b[0m: SympifyError: \"cannot sympify object of type <class 'function'>\""
     ]
    }
   ],
   "source": [
    "Df = sp.diff(f_function, x) "
   ]
  },
  {
   "cell_type": "markdown",
   "metadata": {},
   "source": [
    "La función solo funciona para cadenas de caracteres"
   ]
  },
  {
   "cell_type": "code",
   "execution_count": 56,
   "metadata": {},
   "outputs": [
    {
     "data": {
      "text/plain": [
       "sympy.core.mul.Mul"
      ]
     },
     "execution_count": 56,
     "metadata": {},
     "output_type": "execute_result"
    }
   ],
   "source": [
    "type(Df)"
   ]
  },
  {
   "cell_type": "markdown",
   "metadata": {},
   "source": [
    "Es un tipo chistoso"
   ]
  },
  {
   "cell_type": "code",
   "execution_count": 57,
   "metadata": {},
   "outputs": [
    {
     "ename": "TypeError",
     "evalue": "'Mul' object is not callable",
     "output_type": "error",
     "traceback": [
      "\u001b[1;31m---------------------------------------------------------------------------\u001b[0m",
      "\u001b[1;31mTypeError\u001b[0m                                 Traceback (most recent call last)",
      "Cell \u001b[1;32mIn[57], line 1\u001b[0m\n\u001b[1;32m----> 1\u001b[0m \u001b[38;5;28mprint\u001b[39m(\u001b[43mDf\u001b[49m\u001b[43m(\u001b[49m\u001b[38;5;241;43m1\u001b[39;49m\u001b[43m)\u001b[49m)\n",
      "\u001b[1;31mTypeError\u001b[0m: 'Mul' object is not callable"
     ]
    }
   ],
   "source": [
    "print(Df(1))"
   ]
  },
  {
   "cell_type": "code",
   "execution_count": 5,
   "metadata": {},
   "outputs": [
    {
     "name": "stdout",
     "output_type": "stream",
     "text": [
      "\n",
      "Example 1\n",
      "\n",
      "<class 'str'>\n",
      "<class 'function'>\n",
      "<class 'sympy.core.mul.Mul'>\n",
      "2*x\n"
     ]
    }
   ],
   "source": [
    "print(\"\\nExample 1\\n\")\n",
    "\n",
    "f_str = 'x**2 - 2'          # cadena de caracteres\n",
    "print(type(f_str))          # verificamos el tipo de f_str\n",
    "# f = lambda x: x**2 - 2    \n",
    "f = lambdify(x, f_str)      # transformamos la cadena de caracteres en una función\n",
    "print(type(f))              # verificamos el tipo de f\n",
    "f_prime = sp.diff(f_str, x) # derivamos la función\n",
    "print(type(f_prime))\n",
    "\n",
    "print(f_prime)"
   ]
  },
  {
   "cell_type": "code",
   "execution_count": 6,
   "metadata": {},
   "outputs": [
    {
     "name": "stdout",
     "output_type": "stream",
     "text": [
      "f = x**2 - 2\n",
      "tipo de f: <class 'str'>\n",
      "f_prime = 2*x\n",
      "tipo de f_prime: <class 'sympy.core.mul.Mul'>\n",
      "f = <function _lambdifygenerated at 0x00000258E76B4680>\n",
      "tipo de f: <class 'function'>\n",
      "2\n",
      "f_prime = <function _lambdifygenerated at 0x00000258E76B42C0>\n",
      "tipo de f_prime: <class 'function'>\n",
      "4\n"
     ]
    }
   ],
   "source": [
    "f = 'x**2 - 2'\n",
    "print('f =', f)\n",
    "print('tipo de f:', type(f))\n",
    "\n",
    "f_prime = sp.diff(f, x)\n",
    "print('f_prime =', f_prime)\n",
    "print('tipo de f_prime:', type(f_prime))\n",
    "\n",
    "f = lambdify(x, f)\n",
    "print('f =', f)\n",
    "print('tipo de f:', type(f))\n",
    "print(f(2))\n",
    "\n",
    "f_prime = lambdify(x, f_prime)\n",
    "print('f_prime =', f_prime)\n",
    "print('tipo de f_prime:', type(f_prime))\n",
    "print(f_prime(2))"
   ]
  },
  {
   "cell_type": "markdown",
   "metadata": {},
   "source": [
    "### Vamos a revisar si deriva bien"
   ]
  },
  {
   "cell_type": "code",
   "execution_count": 59,
   "metadata": {},
   "outputs": [
    {
     "name": "stdout",
     "output_type": "stream",
     "text": [
      "Example 1\n",
      "2*x\n"
     ]
    }
   ],
   "source": [
    "print(\"Example 1\")\n",
    "\n",
    "f = 'x**2 - 2'\n",
    "f_prime = sp.diff(f, x)\n",
    "print(f_prime)"
   ]
  },
  {
   "cell_type": "code",
   "execution_count": 60,
   "metadata": {},
   "outputs": [
    {
     "name": "stdout",
     "output_type": "stream",
     "text": [
      "Example 2\n",
      "3*x**2 + 8*x\n"
     ]
    }
   ],
   "source": [
    "print(\"Example 2\")\n",
    "\n",
    "f = 'x**3 + 4*x**2 - 10'\n",
    "f_prime = sp.diff(f, x)\n",
    "print(f_prime)"
   ]
  },
  {
   "cell_type": "code",
   "execution_count": 61,
   "metadata": {},
   "outputs": [
    {
     "name": "stdout",
     "output_type": "stream",
     "text": [
      "Example 3\n",
      "sin(x) + 1/(2*sqrt(x))\n"
     ]
    }
   ],
   "source": [
    "print(\"Example 3\")\n",
    "\n",
    "f = 'sqrt(x) - cos(x)'\n",
    "f_prime = sp.diff(f, x)\n",
    "print(f_prime)"
   ]
  },
  {
   "cell_type": "code",
   "execution_count": 62,
   "metadata": {},
   "outputs": [
    {
     "name": "stdout",
     "output_type": "stream",
     "text": [
      "Example 4\n",
      "2*x + 10*sin(x)\n"
     ]
    }
   ],
   "source": [
    "print(\"Example 4\")\n",
    "\n",
    "f = 'x**2 - 10*cos(x)'\n",
    "f_prime = sp.diff(f, x)\n",
    "print(f_prime)"
   ]
  },
  {
   "cell_type": "code",
   "execution_count": 63,
   "metadata": {},
   "outputs": [
    {
     "name": "stdout",
     "output_type": "stream",
     "text": [
      "Example 5\n",
      "3*x**2 - 2*x\n"
     ]
    }
   ],
   "source": [
    "print(\"Example 5\")\n",
    "\n",
    "f = 'x**3 - x**2 - 1'\n",
    "f_prime = sp.diff(f, x)\n",
    "print(f_prime)"
   ]
  },
  {
   "cell_type": "code",
   "execution_count": 64,
   "metadata": {},
   "outputs": [
    {
     "name": "stdout",
     "output_type": "stream",
     "text": [
      "Example 6\n",
      "1/(3*x**(2/3))\n"
     ]
    }
   ],
   "source": [
    "print(\"Example 6\")\n",
    "\n",
    "f = 'x**(1/3)'\n",
    "f_prime = sp.diff(f, x)\n",
    "print(f_prime)"
   ]
  },
  {
   "cell_type": "markdown",
   "metadata": {},
   "source": [
    "hooray"
   ]
  },
  {
   "cell_type": "markdown",
   "metadata": {},
   "source": [
    "# Método de Newton\n",
    "\n",
    "Ahora ejecutar el Método de Newton pero sin derivar a mano"
   ]
  },
  {
   "cell_type": "code",
   "execution_count": 65,
   "metadata": {},
   "outputs": [],
   "source": [
    "def newton_derivauto(f, x0, epsilon, max_iter):\n",
    "    '''Approximate solution of f(x) = 0 by Newton's method.'''\n",
    "\n",
    "    xn = x0\n",
    "\n",
    "    # Solo para que sea claro luego\n",
    "    f_str = f\n",
    "    f_function = lambdify(x, f_str) # Transformamos la cadena de caracteres en una función\n",
    "    \n",
    "    for n in range(0, max_iter):\n",
    "        \n",
    "        fxn = f_function(xn)         # Evaluamos en la función\n",
    "        \n",
    "        if abs(fxn) < epsilon:\n",
    "            print('Found solution after', n, 'iterations.')\n",
    "            return xn\n",
    "        \n",
    "        Df = sp.diff(f_str, x)      # Derivamos la función\n",
    "        Df = lambdify(x, Df)        # La transformamos en una función\n",
    "        \n",
    "        Dfxn = Df(xn)       # Crear una variable que se llame Dfxn y que sea igual a Df(xn)\n",
    "        if Dfxn == 0:\n",
    "            print('Zero derivative. No solution found.')\n",
    "            return None\n",
    "        \n",
    "        xn = xn - fxn/Dfxn\n",
    "   \n",
    "    print('Exceeded maximum iterations. No solution found.')\n",
    "    return None"
   ]
  },
  {
   "cell_type": "code",
   "execution_count": 66,
   "metadata": {},
   "outputs": [
    {
     "name": "stdout",
     "output_type": "stream",
     "text": [
      "Example 1\n",
      "Found solution after 3 iterations.\n",
      "estimate = 1.4142135623746899\n"
     ]
    }
   ],
   "source": [
    "print(\"Example 1\")\n",
    "\n",
    "f = 'x**2 - 2'\n",
    "\n",
    "estimate = newton_derivauto(f, x0=1.5, epsilon=1e-6, max_iter=10)\n",
    "print(\"estimate =\", estimate)"
   ]
  },
  {
   "cell_type": "code",
   "execution_count": 67,
   "metadata": {},
   "outputs": [
    {
     "name": "stdout",
     "output_type": "stream",
     "text": [
      "Example 2\n",
      "Found solution after 3 iterations.\n",
      "estimate = 1.3652300139161466\n"
     ]
    }
   ],
   "source": [
    "print(\"Example 2\")\n",
    "\n",
    "f = 'x**3 + 4*x**2 - 10'\n",
    "\n",
    "estimate = newton_derivauto(f, x0=1.5, epsilon=1e-4, max_iter=10)\n",
    "print(\"estimate =\", estimate)"
   ]
  },
  {
   "cell_type": "code",
   "execution_count": 68,
   "metadata": {},
   "outputs": [
    {
     "name": "stdout",
     "output_type": "stream",
     "text": [
      "Example 3\n",
      "Found solution after 2 iterations.\n",
      "estimate = 0.641714866792004\n"
     ]
    }
   ],
   "source": [
    "print(\"Example 3\")\n",
    "\n",
    "f = 'sqrt(x) - cos(x)'\n",
    "\n",
    "estimate = newton_derivauto(f, x0=0.5, epsilon=1e-3, max_iter=10)\n",
    "print(\"estimate =\", estimate)"
   ]
  },
  {
   "cell_type": "code",
   "execution_count": 69,
   "metadata": {},
   "outputs": [
    {
     "name": "stdout",
     "output_type": "stream",
     "text": [
      "Exercise 1.1\n",
      "Found solution after 6 iterations.\n",
      "estimate = -1.3793645982150824\n",
      "\n",
      "Example 1.2\n",
      "Found solution after 6 iterations.\n",
      "estimate = 1.3793645982150824\n"
     ]
    }
   ],
   "source": [
    "print(\"Exercise 1.1\")\n",
    "\n",
    "f = 'x**2 - 10*cos(x)'\n",
    "\n",
    "estimate = newton_derivauto(f, x0=-50, epsilon=1e-5, max_iter=10)\n",
    "print(\"estimate =\", estimate)\n",
    "\n",
    "\n",
    "print(\"\\nExample 1.2\")\n",
    "estimate = newton_derivauto(f, x0=50, epsilon=1e-5, max_iter=10)\n",
    "print(\"estimate =\", estimate)"
   ]
  },
  {
   "cell_type": "code",
   "execution_count": 70,
   "metadata": {},
   "outputs": [
    {
     "name": "stdout",
     "output_type": "stream",
     "text": [
      "Exercise 2\n",
      "Found solution after 6 iterations.\n",
      "estimate = 1.4655712318767877\n"
     ]
    }
   ],
   "source": [
    "print(\"Exercise 2\")\n",
    "\n",
    "f = 'x**3 - x**2 - 1'\n",
    "\n",
    "estimate = newton_derivauto(f, x0=1, epsilon=1e-10, max_iter=10)\n",
    "print(\"estimate =\", estimate)"
   ]
  },
  {
   "cell_type": "code",
   "execution_count": 71,
   "metadata": {},
   "outputs": [
    {
     "name": "stdout",
     "output_type": "stream",
     "text": [
      "Exercise 3\n",
      "Exceeded maximum iterations. No solution found.\n",
      "estimate = None\n"
     ]
    }
   ],
   "source": [
    "print(\"Exercise 3\")\n",
    "\n",
    "f = 'x**(1/3)'\n",
    "\n",
    "estimate = newton_derivauto(f, x0=0.1, epsilon=1e-2, max_iter=10)\n",
    "print(\"estimate =\", estimate)"
   ]
  }
 ],
 "metadata": {
  "kernelspec": {
   "display_name": "Python 3",
   "language": "python",
   "name": "python3"
  },
  "language_info": {
   "codemirror_mode": {
    "name": "ipython",
    "version": 3
   },
   "file_extension": ".py",
   "mimetype": "text/x-python",
   "name": "python",
   "nbconvert_exporter": "python",
   "pygments_lexer": "ipython3",
   "version": "3.12.1"
  }
 },
 "nbformat": 4,
 "nbformat_minor": 2
}
