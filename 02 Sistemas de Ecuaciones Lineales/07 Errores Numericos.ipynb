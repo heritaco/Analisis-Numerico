{
 "cells": [
  {
   "cell_type": "markdown",
   "metadata": {},
   "source": [
    "# Errores numericos\n",
    "\n",
    "**Nombre:** Heriberto Espino Montelongo\n",
    "\n",
    "**Materia:** Análisis numérico\n",
    "\n",
    "**Sección:** 1\n",
    "\n",
    "**Fecha:** 03/10/2024"
   ]
  },
  {
   "cell_type": "markdown",
   "metadata": {},
   "source": [
    "En este documento, abordaremos la verificación y resolución de sistemas de ecuaciones lineales utilizando el método de Gauss-Jordan.\n",
    "\n",
    "#### Verificación de Sistemas de Ecuaciones Lineales\n",
    "\n",
    "1. Verificar que es un Sistema de ecuaciones lineales.\n",
    "     - Si tiene una potencia $x^2$ no es\n",
    "     - Si tiene un producto $2xy$ no es \n",
    "\n",
    "2. ¿Tiene soluciones?\n",
    "     - Si tiene un renglón de ceros, se pone $x_1 - x_2 = 7$\n",
    "     - Si tiene un renglon con $0 = -4$ no tiene soluciones\n",
    "     - Si tiene la diagonal de unos, tiene una única solución."
   ]
  },
  {
   "cell_type": "markdown",
   "metadata": {},
   "source": [
    "### Funciones"
   ]
  },
  {
   "cell_type": "code",
   "execution_count": 17,
   "metadata": {},
   "outputs": [],
   "source": [
    "import numpy as np\n",
    "\n",
    "def gaussian_elimination(A, B):\n",
    "\n",
    "    print(\"Ecuación matricial Ax = b del sistema\")\n",
    "    # Determine the width of the columns\n",
    "    col_width = max(len(\"{:.2f}\".format(num)) for row in A for num in row) + 2\n",
    "    vec_width = max(len(\"{:.2f}\".format(num)) for num in B.flatten()) + 2\n",
    "\n",
    "    # Print matrix A and vector B in columns\n",
    "    for i in range(A.shape[0]):\n",
    "        row = [\"{:.2f}\".format(num).rjust(col_width) for num in A[i]]\n",
    "        if i == A.shape[0] // 2:\n",
    "            print(\"[{}]  *  [x{}]  =  [{}]\".format(\" \".join(row), i + 1, \"{:.2f}\".format(B[i, 0]).rjust(vec_width)))\n",
    "        else:\n",
    "            print(\"[{}]     [x{}]     [{}]\".format(\" \".join(row), i + 1, \"{:.2f}\".format(B[i, 0]).rjust(vec_width)))\n",
    "\n",
    "    # Concatenate A and B to form the augmented matrix\n",
    "    C = np.concatenate((A, B), axis=1)\n",
    "    print(\"\\nMatriz aumentada asociada al sistema:\\n\", C, \"\\n\")\n",
    "\n",
    "    # Convert C to float\n",
    "    C = np.array(C, dtype=float)\n",
    "\n",
    "    sizeA = np.shape(A)\n",
    "    sizeB = np.shape(B)\n",
    "    sizeC = np.shape(C)\n",
    "\n",
    "    print(\"Tamaño de A:\\n\", sizeA)\n",
    "    print(\"\\nTamaño de B:\\n\", sizeB)\n",
    "\n",
    "    # print the determinant of A\n",
    "    detA = np.linalg.det(A)\n",
    "    print(\"\\nDeterminante de A: \", detA)\n",
    "\n",
    "    for c in range(sizeC[1] - 1):  # -1 to avoid the last column, because C is an augmented matrix\n",
    "        # Pivot element check and row swap if necessary\n",
    "        if C[c][c] == 0:\n",
    "            for r in range(c + 1, sizeC[0]):\n",
    "                if C[r][c] != 0:\n",
    "                    C[[c, r]] = C[[r, c]]\n",
    "                    break\n",
    "\n",
    "        # Normalize the pivot row\n",
    "        if C[c][c] != 0:\n",
    "            C[c, :] = C[c, :] / C[c][c]\n",
    "\n",
    "        # Zero out the current column for all other rows\n",
    "        for r in range(sizeC[0]):\n",
    "            if r != c:\n",
    "                C[r, :] = C[r, :] - C[r][c] * C[c, :]\n",
    "\n",
    "    print(\"\\nMatriz escalonada reducida:\\n\", C)\n",
    "\n",
    "    print(\"sol\", print(np.linalg.solve(A, B)))"
   ]
  },
  {
   "cell_type": "code",
   "execution_count": 1,
   "metadata": {},
   "outputs": [],
   "source": [
    "from pprint import pprint\n",
    "import sympy as sp\n",
    "from sympy import Matrix\n",
    "import numpy as np\n",
    "\n",
    "def no_meter_decimales(augmented_A): \n",
    "    print('The augmented matrix (A|b):')\n",
    "    pprint(augmented_A)\n",
    "    \n",
    "    # Convert the augmented matrix to a sympy Matrix\n",
    "    augmented_A = Matrix(augmented_A)\n",
    "    \n",
    "    # Extract A and b from the augmented matrix\n",
    "    A = augmented_A[:, :-1]\n",
    "    b = augmented_A[:, -1]\n",
    "    \n",
    "    # Convert A and b to numpy arrays\n",
    "    A = np.array(A).astype(np.float64)\n",
    "    b = np.array(b).astype(np.float64)\n",
    "    \n",
    "    # Compute the row echelon form using sympy\n",
    "    A_new = augmented_A.rref()[0]\n",
    "    print('\\nThe row echelon form of the matrix is:')\n",
    "    pprint(A_new)\n",
    "\n",
    "    # Compute the determinant of A\n",
    "    detA = np.linalg.det(A)\n",
    "\n",
    "    if detA == 0:\n",
    "        print(\"\\nThe system of linear equations has no solution or infinitely many solutions.\")\n",
    "    else: \n",
    "        print(\"\\nThe system of linear equations has exactly one solution:\")"
   ]
  },
  {
   "cell_type": "markdown",
   "metadata": {},
   "source": [
    "### Ejercicio 1\n",
    "\n",
    "$$\n",
    "3x_1 - 2x_2 = 4 \\\\\n",
    "5x_1 + 2x_2 = 12\n",
    "$$"
   ]
  },
  {
   "cell_type": "code",
   "execution_count": 18,
   "metadata": {},
   "outputs": [
    {
     "name": "stdout",
     "output_type": "stream",
     "text": [
      "Ecuación matricial Ax = b del sistema\n",
      "[   1.00   -2.00    3.00]     [x1]     [  11.00]\n",
      "[   4.00    1.00   -1.00]  *  [x2]  =  [   4.00]\n",
      "[   2.00   -1.00    3.00]     [x3]     [  10.00]\n",
      "\n",
      "Matriz aumentada asociada al sistema:\n",
      " [[ 1 -2  3 11]\n",
      " [ 4  1 -1  4]\n",
      " [ 2 -1  3 10]] \n",
      "\n",
      "Tamaño de A:\n",
      " (3, 3)\n",
      "\n",
      "Tamaño de B:\n",
      " (3, 1)\n",
      "\n",
      "Determinante de A:  11.999999999999995\n",
      "\n",
      "Matriz escalonada reducida:\n",
      " [[ 1.  0.  0.  2.]\n",
      " [ 0.  1.  0. -3.]\n",
      " [ 0.  0.  1.  1.]]\n",
      "[[ 2.]\n",
      " [-3.]\n",
      " [ 1.]]\n",
      "sol None\n",
      "The augmented matrix (A|b):\n",
      "Matrix([\n",
      "[1, -2,  3, 11],\n",
      "[4,  1, -1,  4],\n",
      "[2, -1,  3, 10]])\n",
      "\n",
      "The row echelon form of the matrix is:\n",
      "Matrix([\n",
      "[1, 0, 0,  2],\n",
      "[0, 1, 0, -3],\n",
      "[0, 0, 1,  1]])\n",
      "\n",
      "The system of linear equations has exactly one solution:\n",
      "[[ 2.]\n",
      " [-3.]\n",
      " [ 1.]]\n"
     ]
    }
   ],
   "source": [
    "A = np.array([[1, -2, 3], [4, 1, -1], [2, -1, 3]])\n",
    "B = np.array([[11], [4], [10]])\n",
    "C = sp.Matrix(np.column_stack((A, B)))\n",
    "\n",
    "gaussian_elimination(A, B)\n",
    "no_meter_decimales(C)\n",
    "print(np.linalg.solve(A, B))"
   ]
  },
  {
   "cell_type": "markdown",
   "metadata": {},
   "source": [
    "### Ejercicio 2\n",
    "\n",
    "$$\n",
    "x_1 - x_2 = 7 \\\\\n",
    "2x_1 - 2x_2 = 14\n",
    "$$"
   ]
  },
  {
   "cell_type": "code",
   "execution_count": 19,
   "metadata": {},
   "outputs": [
    {
     "name": "stdout",
     "output_type": "stream",
     "text": [
      "Ecuación matricial Ax = b del sistema\n",
      "[   0.00    9.00   -7.00]     [x1]     [  11.00]\n",
      "[   0.00    0.00   -1.00]  *  [x2]  =  [   4.00]\n",
      "[  -3.00    6.00    8.00]     [x3]     [  10.00]\n",
      "\n",
      "Matriz aumentada asociada al sistema:\n",
      " [[ 0  9 -7 11]\n",
      " [ 0  0 -1  4]\n",
      " [-3  6  8 10]] \n",
      "\n",
      "Tamaño de A:\n",
      " (3, 3)\n",
      "\n",
      "Tamaño de B:\n",
      " (3, 1)\n",
      "\n",
      "Determinante de A:  27.0\n",
      "\n",
      "Matriz escalonada reducida:\n",
      " [[  1.           0.           0.         -17.77777778]\n",
      " [  0.           1.           0.          -1.88888889]\n",
      " [ -0.          -0.           1.          -4.        ]]\n",
      "[[-17.77777778]\n",
      " [ -1.88888889]\n",
      " [ -4.        ]]\n",
      "sol None\n",
      "The augmented matrix (A|b):\n",
      "Matrix([\n",
      "[ 0, 9, -7, 11],\n",
      "[ 0, 0, -1,  4],\n",
      "[-3, 6,  8, 10]])\n",
      "\n",
      "The row echelon form of the matrix is:\n",
      "Matrix([\n",
      "[1, 0, 0, -160/9],\n",
      "[0, 1, 0,  -17/9],\n",
      "[0, 0, 1,     -4]])\n",
      "\n",
      "The system of linear equations has exactly one solution:\n",
      "[[-17.77777778]\n",
      " [ -1.88888889]\n",
      " [ -4.        ]]\n"
     ]
    }
   ],
   "source": [
    "A = np.array([[0, 9, -7], [0, 0, -1], [-3, 6, 8]])\n",
    "C = sp.Matrix(np.column_stack((A, B)))\n",
    "\n",
    "gaussian_elimination(A, B)\n",
    "no_meter_decimales(C)\n",
    "print(np.linalg.solve(A, B))"
   ]
  },
  {
   "cell_type": "markdown",
   "metadata": {},
   "source": [
    "### Ejercicio 3\n",
    "\n",
    "$$\n",
    "x_1 - x_2 = 7 \\\\\n",
    "2x_1 - 2x_2 = 10\n",
    "$$"
   ]
  },
  {
   "cell_type": "code",
   "execution_count": 20,
   "metadata": {},
   "outputs": [
    {
     "name": "stdout",
     "output_type": "stream",
     "text": [
      "Ecuación matricial Ax = b del sistema\n",
      "[    1.00     2.00    -2.00    -1.00]     [x1]     [  1.00]\n",
      "[   -3.00     4.00     1.00    -2.00]     [x2]     [  4.00]\n",
      "[   -3.00    14.00    -4.00    -7.00]  *  [x3]  =  [  3.00]\n",
      "[    6.00    12.00   -12.00    -6.00]     [x4]     [  5.00]\n",
      "\n",
      "Matriz aumentada asociada al sistema:\n",
      " [[  1   2  -2  -1   1]\n",
      " [ -3   4   1  -2   4]\n",
      " [ -3  14  -4  -7   3]\n",
      " [  6  12 -12  -6   5]] \n",
      "\n",
      "Tamaño de A:\n",
      " (4, 4)\n",
      "\n",
      "Tamaño de B:\n",
      " (4, 1)\n",
      "\n",
      "Determinante de A:  0.0\n",
      "\n",
      "Matriz escalonada reducida:\n",
      " [[ 1.   0.  -1.   0.  -8.4]\n",
      " [ 0.   1.  -0.5 -0.5 -3.8]\n",
      " [ 0.   0.   0.   0.  -8. ]\n",
      " [ 0.   0.   0.   0.  -1. ]]\n"
     ]
    },
    {
     "ename": "LinAlgError",
     "evalue": "Singular matrix",
     "output_type": "error",
     "traceback": [
      "\u001b[1;31m---------------------------------------------------------------------------\u001b[0m",
      "\u001b[1;31mLinAlgError\u001b[0m                               Traceback (most recent call last)",
      "Cell \u001b[1;32mIn[20], line 5\u001b[0m\n\u001b[0;32m      2\u001b[0m B \u001b[38;5;241m=\u001b[39m np\u001b[38;5;241m.\u001b[39marray([[\u001b[38;5;241m1\u001b[39m], [\u001b[38;5;241m4\u001b[39m], [\u001b[38;5;241m3\u001b[39m], [\u001b[38;5;241m5\u001b[39m]])\n\u001b[0;32m      3\u001b[0m C \u001b[38;5;241m=\u001b[39m sp\u001b[38;5;241m.\u001b[39mMatrix(np\u001b[38;5;241m.\u001b[39mcolumn_stack((A, B)))\n\u001b[1;32m----> 5\u001b[0m \u001b[43mgaussian_elimination\u001b[49m\u001b[43m(\u001b[49m\u001b[43mA\u001b[49m\u001b[43m,\u001b[49m\u001b[43m \u001b[49m\u001b[43mB\u001b[49m\u001b[43m)\u001b[49m\n\u001b[0;32m      6\u001b[0m no_meter_decimales(C)\n",
      "Cell \u001b[1;32mIn[17], line 55\u001b[0m, in \u001b[0;36mgaussian_elimination\u001b[1;34m(A, B)\u001b[0m\n\u001b[0;32m     51\u001b[0m             C[r, :] \u001b[38;5;241m=\u001b[39m C[r, :] \u001b[38;5;241m-\u001b[39m C[r][c] \u001b[38;5;241m*\u001b[39m C[c, :]\n\u001b[0;32m     53\u001b[0m \u001b[38;5;28mprint\u001b[39m(\u001b[38;5;124m\"\u001b[39m\u001b[38;5;130;01m\\n\u001b[39;00m\u001b[38;5;124mMatriz escalonada reducida:\u001b[39m\u001b[38;5;130;01m\\n\u001b[39;00m\u001b[38;5;124m\"\u001b[39m, C)\n\u001b[1;32m---> 55\u001b[0m \u001b[38;5;28mprint\u001b[39m(\u001b[38;5;124m\"\u001b[39m\u001b[38;5;124msol\u001b[39m\u001b[38;5;124m\"\u001b[39m, \u001b[38;5;28mprint\u001b[39m(\u001b[43mnp\u001b[49m\u001b[38;5;241;43m.\u001b[39;49m\u001b[43mlinalg\u001b[49m\u001b[38;5;241;43m.\u001b[39;49m\u001b[43msolve\u001b[49m\u001b[43m(\u001b[49m\u001b[43mA\u001b[49m\u001b[43m,\u001b[49m\u001b[43m \u001b[49m\u001b[43mB\u001b[49m\u001b[43m)\u001b[49m))\n",
      "File \u001b[1;32mc:\\Users\\herie\\AppData\\Local\\Programs\\Python\\Python312\\Lib\\site-packages\\numpy\\linalg\\linalg.py:409\u001b[0m, in \u001b[0;36msolve\u001b[1;34m(a, b)\u001b[0m\n\u001b[0;32m    407\u001b[0m signature \u001b[38;5;241m=\u001b[39m \u001b[38;5;124m'\u001b[39m\u001b[38;5;124mDD->D\u001b[39m\u001b[38;5;124m'\u001b[39m \u001b[38;5;28;01mif\u001b[39;00m isComplexType(t) \u001b[38;5;28;01melse\u001b[39;00m \u001b[38;5;124m'\u001b[39m\u001b[38;5;124mdd->d\u001b[39m\u001b[38;5;124m'\u001b[39m\n\u001b[0;32m    408\u001b[0m extobj \u001b[38;5;241m=\u001b[39m get_linalg_error_extobj(_raise_linalgerror_singular)\n\u001b[1;32m--> 409\u001b[0m r \u001b[38;5;241m=\u001b[39m \u001b[43mgufunc\u001b[49m\u001b[43m(\u001b[49m\u001b[43ma\u001b[49m\u001b[43m,\u001b[49m\u001b[43m \u001b[49m\u001b[43mb\u001b[49m\u001b[43m,\u001b[49m\u001b[43m \u001b[49m\u001b[43msignature\u001b[49m\u001b[38;5;241;43m=\u001b[39;49m\u001b[43msignature\u001b[49m\u001b[43m,\u001b[49m\u001b[43m \u001b[49m\u001b[43mextobj\u001b[49m\u001b[38;5;241;43m=\u001b[39;49m\u001b[43mextobj\u001b[49m\u001b[43m)\u001b[49m\n\u001b[0;32m    411\u001b[0m \u001b[38;5;28;01mreturn\u001b[39;00m wrap(r\u001b[38;5;241m.\u001b[39mastype(result_t, copy\u001b[38;5;241m=\u001b[39m\u001b[38;5;28;01mFalse\u001b[39;00m))\n",
      "File \u001b[1;32mc:\\Users\\herie\\AppData\\Local\\Programs\\Python\\Python312\\Lib\\site-packages\\numpy\\linalg\\linalg.py:112\u001b[0m, in \u001b[0;36m_raise_linalgerror_singular\u001b[1;34m(err, flag)\u001b[0m\n\u001b[0;32m    111\u001b[0m \u001b[38;5;28;01mdef\u001b[39;00m \u001b[38;5;21m_raise_linalgerror_singular\u001b[39m(err, flag):\n\u001b[1;32m--> 112\u001b[0m     \u001b[38;5;28;01mraise\u001b[39;00m LinAlgError(\u001b[38;5;124m\"\u001b[39m\u001b[38;5;124mSingular matrix\u001b[39m\u001b[38;5;124m\"\u001b[39m)\n",
      "\u001b[1;31mLinAlgError\u001b[0m: Singular matrix"
     ]
    }
   ],
   "source": [
    "A = np.array([[1,2,-2,-1], [-3,4,1,-2], [-3,14,-4,-7], [6,12,-12,-6]])\n",
    "B = np.array([[1], [4], [3], [5]])\n",
    "C = sp.Matrix(np.column_stack((A, B)))\n",
    "\n",
    "gaussian_elimination(A, B)\n",
    "no_meter_decimales(C)"
   ]
  },
  {
   "cell_type": "markdown",
   "metadata": {},
   "source": [
    "### Ejercicio 4"
   ]
  },
  {
   "cell_type": "code",
   "execution_count": 21,
   "metadata": {},
   "outputs": [
    {
     "name": "stdout",
     "output_type": "stream",
     "text": [
      "Ecuación matricial Ax = b del sistema\n",
      "[  -0.60    0.20    0.20]     [x1]     [  0.00]\n",
      "[   0.10   -0.30    0.20]  *  [x2]  =  [  0.00]\n",
      "[   0.50    0.10   -0.40]     [x3]     [  0.00]\n",
      "\n",
      "Matriz aumentada asociada al sistema:\n",
      " [[-0.6  0.2  0.2  0. ]\n",
      " [ 0.1 -0.3  0.2  0. ]\n",
      " [ 0.5  0.1 -0.4  0. ]] \n",
      "\n",
      "Tamaño de A:\n",
      " (3, 3)\n",
      "\n",
      "Tamaño de B:\n",
      " (3, 1)\n",
      "\n",
      "Determinante de A:  8.881784197001225e-18\n",
      "\n",
      "Matriz escalonada reducida:\n",
      " [[1. 0. 0. 0.]\n",
      " [0. 1. 0. 0.]\n",
      " [0. 0. 1. 0.]]\n",
      "[[-0.]\n",
      " [ 0.]\n",
      " [ 0.]]\n",
      "sol None\n"
     ]
    }
   ],
   "source": [
    "A = np.array([[-.6, .2, .2], [.1, -.3, .2], [.5, .1, -.4]])\n",
    "B = np.array([[0], [0], [0]])\n",
    "\n",
    "gaussian_elimination(A, B)"
   ]
  },
  {
   "cell_type": "markdown",
   "metadata": {},
   "source": [
    "Por ejemplo, el error absoluto de el determinante es el musmo valor del determinante. Si lo hicieras a mano tendrias 0."
   ]
  }
 ],
 "metadata": {
  "kernelspec": {
   "display_name": "Python 3",
   "language": "python",
   "name": "python3"
  },
  "language_info": {
   "codemirror_mode": {
    "name": "ipython",
    "version": 3
   },
   "file_extension": ".py",
   "mimetype": "text/x-python",
   "name": "python",
   "nbconvert_exporter": "python",
   "pygments_lexer": "ipython3",
   "version": "3.12.1"
  }
 },
 "nbformat": 4,
 "nbformat_minor": 2
}
