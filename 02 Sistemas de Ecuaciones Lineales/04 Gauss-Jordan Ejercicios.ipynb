{
 "cells": [
  {
   "cell_type": "markdown",
   "metadata": {},
   "source": [
    "# Gauss-Jordan\n",
    "\n",
    "**Nombre:** Heriberto Espino Montelongo\n",
    "\n",
    "**Materia:** Análisis numérico\n",
    "\n",
    "**Sección:** 1\n",
    "\n",
    "**Fecha:** 25/09/2024"
   ]
  },
  {
   "cell_type": "markdown",
   "metadata": {},
   "source": [
    "En este documento, abordaremos la verificación y resolución de sistemas de ecuaciones lineales utilizando el método de Gauss-Jordan.\n",
    "\n",
    "#### Verificación de Sistemas de Ecuaciones Lineales\n",
    "\n",
    "1. Verificar que es un Sistema de ecuaciones lineales.\n",
    "     - Si tiene una potencia $x^2$ no es\n",
    "     - Si tiene un producto $2xy$ no es \n",
    "\n",
    "2. ¿Tiene soluciones?\n",
    "     - Si tiene un renglón de ceros, se pone $x_1 - x_2 = 7$\n",
    "     - Si tiene un renglon con $0 = -4$ no tiene soluciones\n",
    "     - Si tiene la diagonal de unos, tiene una única solución."
   ]
  },
  {
   "cell_type": "code",
   "execution_count": 70,
   "metadata": {},
   "outputs": [],
   "source": [
    "import numpy as np\n",
    "\n",
    "def gaussian_elimination(A, B):\n",
    "\n",
    "    print(\"Ecuación matricial Ax = b del sistema\")\n",
    "    # Determine the width of the columns\n",
    "    col_width = max(len(\"{:.2f}\".format(num)) for row in A for num in row) + 2\n",
    "    vec_width = max(len(\"{:.2f}\".format(num)) for num in B.flatten()) + 2\n",
    "\n",
    "    # Print matrix A and vector B in columns\n",
    "    for i in range(A.shape[0]):\n",
    "        row = [\"{:.2f}\".format(num).rjust(col_width) for num in A[i]]\n",
    "        if i == A.shape[0] // 2:\n",
    "            print(\"[{}]  *  [x{}]  =  [{}]\".format(\" \".join(row), i + 1, \"{:.2f}\".format(B[i, 0]).rjust(vec_width)))\n",
    "        else:\n",
    "            print(\"[{}]     [x{}]     [{}]\".format(\" \".join(row), i + 1, \"{:.2f}\".format(B[i, 0]).rjust(vec_width)))\n",
    "\n",
    "    # Concatenate A and B to form the augmented matrix\n",
    "    C = np.concatenate((A, B), axis=1)\n",
    "    print(\"\\nMatriz aumentada asociada al sistema:\\n\", C, \"\\n\")\n",
    "\n",
    "    # Convert C to float\n",
    "    C = np.array(C, dtype=float)\n",
    "\n",
    "    sizeA = np.shape(A)\n",
    "    sizeB = np.shape(B)\n",
    "    sizeC = np.shape(C)\n",
    "\n",
    "    print(\"Tamaño de A:\\n\", sizeA)\n",
    "    print(\"\\nTamaño de B:\\n\", sizeB)\n",
    "\n",
    "    # Gaussian elimination\n",
    "    for c in range(sizeC[1] - 1):  # -1 to avoid the last column, because C is an augmented matrix\n",
    "        if C[c][c] != 1 and C[c][c] != 0:\n",
    "            C[c, :] = C[c, :] / C[c][c]\n",
    "\n",
    "        for r in range(sizeC[0]):\n",
    "            if r != c:\n",
    "                C[r, :] = C[r, :] - C[r][c] * C[c, :]\n",
    "\n",
    "    print(\"\\nMatriz escalonada reducida:\\n\", C)\n",
    "\n",
    "    # Check for no solution or infinite solutions\n",
    "    pivots = []  # Lista para almacenar las columnas de los pivotes\n",
    "\n",
    "    for r in range(sizeC[0]):\n",
    "        \n",
    "        # Caso: el sistema no tiene solución\n",
    "        if np.all(C[r, :-1] == 0) and C[r, -1] != 0:\n",
    "            print(\"\\nEl sistema no tiene solución.\")\n",
    "            return\n",
    "\n",
    "        # Caso: el sistema tiene infinitas soluciones\n",
    "        elif np.all(C[r, :-1] == 0) and C[r, -1] == 0:\n",
    "            print(\"\\nEl sistema tiene infinitas soluciones.\")\n",
    "            \n",
    "            # Imprimir las ecuaciones de las filas no nulas\n",
    "            for r in range(sizeC[0]):\n",
    "                if not np.all(C[r, :-1] == 0):\n",
    "                    equation = \" + \".join([f\"{C[r, c]:.3f}*x{c+1}\" for c in range(sizeC[1] - 1) if C[r, c] != 0])\n",
    "                    print(f\"{equation} = {C[r, -1]:.3f}\")\n",
    "                    # Registrar el índice de las variables pivote\n",
    "                    for c in range(sizeC[1] - 1):\n",
    "                        if C[r, c] != 0:\n",
    "                            pivots.append(c)\n",
    "                            break\n",
    "            \n",
    "            # Identificar e imprimir las variables libres\n",
    "            free_vars = [f\"x{c+1}\" for c in range(sizeC[1] - 1) if c not in pivots]\n",
    "            \n",
    "            if free_vars:\n",
    "                for var in free_vars:\n",
    "                    print(f\"{var} ∈ ℝ\")\n",
    "            else:\n",
    "                print(\"\\nNo hay variables libres.\")\n",
    "            \n",
    "            return\n",
    "\n",
    "\n",
    "\n",
    "    # Back substitution to find the solution\n",
    "    x = np.zeros(sizeA[1])\n",
    "    for i in range(sizeA[0] - 1, -1, -1):\n",
    "        x[i] = (C[i, -1] - np.dot(C[i, :-1], x)) / C[i, i]\n",
    "\n",
    "    print(\"\\nSolución del sistema:\")\n",
    "    for i in range(len(x)):\n",
    "        print(\"x{} = {}\".format(i + 1, x[i]))"
   ]
  },
  {
   "cell_type": "markdown",
   "metadata": {},
   "source": [
    "### Ejercicio 1\n",
    "\n",
    "$$\n",
    "3x_1 - 2x_2 = 4 \\\\\n",
    "5x_1 + 2x_2 = 12\n",
    "$$"
   ]
  },
  {
   "cell_type": "code",
   "execution_count": 71,
   "metadata": {},
   "outputs": [
    {
     "name": "stdout",
     "output_type": "stream",
     "text": [
      "Ecuación matricial Ax = b del sistema\n",
      "[   3.00   -2.00]     [x1]     [   4.00]\n",
      "[   5.00    2.00]  *  [x2]  =  [  12.00]\n",
      "\n",
      "Matriz aumentada asociada al sistema:\n",
      " [[ 3 -2  4]\n",
      " [ 5  2 12]] \n",
      "\n",
      "Tamaño de A:\n",
      " (2, 2)\n",
      "\n",
      "Tamaño de B:\n",
      " (2, 1)\n",
      "\n",
      "Matriz escalonada reducida:\n",
      " [[1. 0. 2.]\n",
      " [0. 1. 1.]]\n",
      "\n",
      "Solución del sistema:\n",
      "x1 = 2.0\n",
      "x2 = 1.0000000000000002\n"
     ]
    }
   ],
   "source": [
    "# Exercise 1: One solution\n",
    "A = np.array([[3, -2], [5, 2]])\n",
    "B = np.array([[4], [12]])\n",
    "\n",
    "gaussian_elimination(A, B)"
   ]
  },
  {
   "cell_type": "markdown",
   "metadata": {},
   "source": [
    "### Ejercicio 2\n",
    "\n",
    "$$\n",
    "x_1 - x_2 = 7 \\\\\n",
    "2x_1 - 2x_2 = 14\n",
    "$$"
   ]
  },
  {
   "cell_type": "code",
   "execution_count": 72,
   "metadata": {},
   "outputs": [
    {
     "name": "stdout",
     "output_type": "stream",
     "text": [
      "Ecuación matricial Ax = b del sistema\n",
      "[   1.00   -1.00]     [x1]     [   7.00]\n",
      "[   2.00   -2.00]  *  [x2]  =  [  14.00]\n",
      "\n",
      "Matriz aumentada asociada al sistema:\n",
      " [[ 1 -1  7]\n",
      " [ 2 -2 14]] \n",
      "\n",
      "Tamaño de A:\n",
      " (2, 2)\n",
      "\n",
      "Tamaño de B:\n",
      " (2, 1)\n",
      "\n",
      "Matriz escalonada reducida:\n",
      " [[ 1. -1.  7.]\n",
      " [ 0.  0.  0.]]\n",
      "\n",
      "El sistema tiene infinitas soluciones.\n",
      "1.000*x1 + -1.000*x2 = 7.000\n",
      "x2 ∈ ℝ\n"
     ]
    }
   ],
   "source": [
    "# Exercise 2: Infinitely many solutions\n",
    "A = np.array([[1, -1], [2, -2]])\n",
    "B = np.array([[7], [14]])\n",
    "\n",
    "gaussian_elimination(A, B)"
   ]
  },
  {
   "cell_type": "markdown",
   "metadata": {},
   "source": [
    "### Ejercicio 3\n",
    "\n",
    "$$\n",
    "x_1 - x_2 = 7 \\\\\n",
    "2x_1 - 2x_2 = 10\n",
    "$$"
   ]
  },
  {
   "cell_type": "code",
   "execution_count": 73,
   "metadata": {},
   "outputs": [
    {
     "name": "stdout",
     "output_type": "stream",
     "text": [
      "Ecuación matricial Ax = b del sistema\n",
      "[   1.00   -1.00]     [x1]     [   7.00]\n",
      "[   2.00   -2.00]  *  [x2]  =  [  10.00]\n",
      "\n",
      "Matriz aumentada asociada al sistema:\n",
      " [[ 1 -1  7]\n",
      " [ 2 -2 10]] \n",
      "\n",
      "Tamaño de A:\n",
      " (2, 2)\n",
      "\n",
      "Tamaño de B:\n",
      " (2, 1)\n",
      "\n",
      "Matriz escalonada reducida:\n",
      " [[ 1. -1.  3.]\n",
      " [ 0.  0. -4.]]\n",
      "\n",
      "El sistema no tiene solución.\n"
     ]
    }
   ],
   "source": [
    "# # Exercise 3: No solution\n",
    "A = np.array([[1, -1], [2, -2]])\n",
    "B = np.array([[7], [10]])\n",
    "\n",
    "gaussian_elimination(A, B)"
   ]
  },
  {
   "cell_type": "markdown",
   "metadata": {},
   "source": [
    "### Ejercicio 4\n",
    "\n",
    "$$\n",
    "2x - 3y + z = -1 \\\\\n",
    "x - y + 2z = -3 \\\\\n",
    "3x + y - z = 9\n",
    "$$"
   ]
  },
  {
   "cell_type": "code",
   "execution_count": 74,
   "metadata": {},
   "outputs": [
    {
     "name": "stdout",
     "output_type": "stream",
     "text": [
      "Ecuación matricial Ax = b del sistema\n",
      "[   2.00   -3.00    1.00]     [x1]     [  -1.00]\n",
      "[   1.00   -1.00    2.00]  *  [x2]  =  [  -3.00]\n",
      "[   3.00    1.00   -1.00]     [x3]     [   9.00]\n",
      "\n",
      "Matriz aumentada asociada al sistema:\n",
      " [[ 2 -3  1 -1]\n",
      " [ 1 -1  2 -3]\n",
      " [ 3  1 -1  9]] \n",
      "\n",
      "Tamaño de A:\n",
      " (3, 3)\n",
      "\n",
      "Tamaño de B:\n",
      " (3, 1)\n",
      "\n",
      "Matriz escalonada reducida:\n",
      " [[ 1.  0.  0.  2.]\n",
      " [ 0.  1.  0.  1.]\n",
      " [-0. -0.  1. -2.]]\n",
      "\n",
      "Solución del sistema:\n",
      "x1 = 2.0\n",
      "x2 = 1.0\n",
      "x3 = -2.0\n"
     ]
    }
   ],
   "source": [
    "# Exercise 4:\n",
    "A = np.array([[2, -3, 1], [1, -1, 2], [3, 1, -1]])\n",
    "B = np.array([[-1], [-3], [9]])\n",
    "\n",
    "gaussian_elimination(A, B)"
   ]
  },
  {
   "cell_type": "markdown",
   "metadata": {},
   "source": [
    "### Ejercicio 5\n",
    "\n",
    "$$\n",
    "x - y + 4z = -5 \\\\\n",
    "3x + z = 0 \\\\\n",
    "-x + y - 4z = 20\n",
    "$$\n"
   ]
  },
  {
   "cell_type": "code",
   "execution_count": 75,
   "metadata": {},
   "outputs": [
    {
     "name": "stdout",
     "output_type": "stream",
     "text": [
      "Ecuación matricial Ax = b del sistema\n",
      "[   1.00   -1.00    4.00]     [x1]     [  -5.00]\n",
      "[   3.00    0.00    1.00]  *  [x2]  =  [   0.00]\n",
      "[  -1.00    1.00   -4.00]     [x3]     [  20.00]\n",
      "\n",
      "Matriz aumentada asociada al sistema:\n",
      " [[ 1 -1  4 -5]\n",
      " [ 3  0  1  0]\n",
      " [-1  1 -4 20]] \n",
      "\n",
      "Tamaño de A:\n",
      " (3, 3)\n",
      "\n",
      "Tamaño de B:\n",
      " (3, 1)\n",
      "\n",
      "Matriz escalonada reducida:\n",
      " [[ 1.          0.          0.33333333 -5.        ]\n",
      " [ 0.          1.         -3.66666667 60.        ]\n",
      " [ 0.          0.          0.         15.        ]]\n",
      "\n",
      "El sistema no tiene solución.\n"
     ]
    }
   ],
   "source": [
    "# Exercise 5:\n",
    "A = np.array([[1, -1, 4], [3, 0, 1], [-1, 1, -4]])\n",
    "B = np.array([[-5], [0], [20]])\n",
    "\n",
    "gaussian_elimination(A, B)"
   ]
  },
  {
   "cell_type": "markdown",
   "metadata": {},
   "source": [
    "### Ejercicio 6\n",
    "\n",
    "$$\n",
    "-x + y + 2z = 0 \\\\\n",
    "x + 2y + z = 6 \\\\\n",
    "-2x - y + z = -6\n",
    "$$\n"
   ]
  },
  {
   "cell_type": "code",
   "execution_count": 76,
   "metadata": {},
   "outputs": [
    {
     "name": "stdout",
     "output_type": "stream",
     "text": [
      "Ecuación matricial Ax = b del sistema\n",
      "[  -1.00    1.00    2.00]     [x1]     [   0.00]\n",
      "[   1.00    2.00    1.00]  *  [x2]  =  [   6.00]\n",
      "[  -2.00   -1.00    1.00]     [x3]     [  -6.00]\n",
      "\n",
      "Matriz aumentada asociada al sistema:\n",
      " [[-1  1  2  0]\n",
      " [ 1  2  1  6]\n",
      " [-2 -1  1 -6]] \n",
      "\n",
      "Tamaño de A:\n",
      " (3, 3)\n",
      "\n",
      "Tamaño de B:\n",
      " (3, 1)\n",
      "\n",
      "Matriz escalonada reducida:\n",
      " [[ 1.  0. -1.  2.]\n",
      " [ 0.  1.  1.  2.]\n",
      " [ 0.  0.  0.  0.]]\n",
      "\n",
      "El sistema tiene infinitas soluciones.\n",
      "1.000*x1 + -1.000*x3 = 2.000\n",
      "1.000*x2 + 1.000*x3 = 2.000\n",
      "x3 ∈ ℝ\n"
     ]
    }
   ],
   "source": [
    "# Exercise 6:\n",
    "A = np.array([[-1, 1, 2], [1, 2, 1], [-2, -1, 1]])\n",
    "B = np.array([[0], [6], [-6]])\n",
    "\n",
    "gaussian_elimination(A, B)"
   ]
  },
  {
   "cell_type": "markdown",
   "metadata": {},
   "source": [
    "### Ejercicio 7\n",
    "\n",
    "$$\n",
    "0.4p_1 + 0.2p_2 + 0.2p_3 = p_1 \\\\\n",
    "0.1p_1 + 0.7p_2 + 0.2p_3 = p_2 \\\\\n",
    "0.5p_1 + 0.1p_2 + 0.6p_3 = p_3\n",
    "$$\n"
   ]
  },
  {
   "cell_type": "code",
   "execution_count": 77,
   "metadata": {},
   "outputs": [
    {
     "name": "stdout",
     "output_type": "stream",
     "text": [
      "Ecuación matricial Ax = b del sistema\n",
      "[  0.40   0.20   0.20]     [x1]     [  0.00]\n",
      "[  0.10   0.70   0.20]  *  [x2]  =  [  0.00]\n",
      "[  0.50   0.10   0.60]     [x3]     [  0.00]\n",
      "\n",
      "Matriz aumentada asociada al sistema:\n",
      " [[0.4 0.2 0.2 0. ]\n",
      " [0.1 0.7 0.2 0. ]\n",
      " [0.5 0.1 0.6 0. ]] \n",
      "\n",
      "Tamaño de A:\n",
      " (3, 3)\n",
      "\n",
      "Tamaño de B:\n",
      " (3, 1)\n",
      "\n",
      "Matriz escalonada reducida:\n",
      " [[1. 0. 0. 0.]\n",
      " [0. 1. 0. 0.]\n",
      " [0. 0. 1. 0.]]\n",
      "\n",
      "Solución del sistema:\n",
      "x1 = 0.0\n",
      "x2 = 0.0\n",
      "x3 = 0.0\n"
     ]
    }
   ],
   "source": [
    "# Exercise 7:\n",
    "A = np.array([[0.4, 0.2, 0.2], [0.1, 0.7, 0.2], [0.5, 0.1, 0.6]])\n",
    "B = np.array([[0], [0], [0]])\n",
    "\n",
    "gaussian_elimination(A, B)"
   ]
  },
  {
   "cell_type": "markdown",
   "metadata": {},
   "source": [
    "### Ejercicio 8\n",
    "\n",
    "$$\n",
    "0.2p_1 + 0.7p_2 = p_1 \\\\\n",
    "0.8p_1 + 0.3p_2 = p_2\n",
    "$$"
   ]
  },
  {
   "cell_type": "code",
   "execution_count": 78,
   "metadata": {},
   "outputs": [
    {
     "name": "stdout",
     "output_type": "stream",
     "text": [
      "Ecuación matricial Ax = b del sistema\n",
      "[  -0.80    0.70]     [x1]     [  0.00]\n",
      "[   0.80   -0.70]  *  [x2]  =  [  0.00]\n",
      "\n",
      "Matriz aumentada asociada al sistema:\n",
      " [[-0.8  0.7  0. ]\n",
      " [ 0.8 -0.7  0. ]] \n",
      "\n",
      "Tamaño de A:\n",
      " (2, 2)\n",
      "\n",
      "Tamaño de B:\n",
      " (2, 1)\n",
      "\n",
      "Matriz escalonada reducida:\n",
      " [[ 1.    -0.875  0.   ]\n",
      " [ 0.     0.     0.   ]]\n",
      "\n",
      "El sistema tiene infinitas soluciones.\n",
      "1.000*x1 + -0.875*x2 = 0.000\n",
      "x2 ∈ ℝ\n"
     ]
    }
   ],
   "source": [
    "# Exercise 8:\n",
    "A = np.array([[-0.8, 0.7], [0.8, -0.7]])\n",
    "B = np.array([[0], [0]])\n",
    "\n",
    "gaussian_elimination(A, B)"
   ]
  },
  {
   "cell_type": "markdown",
   "metadata": {},
   "source": [
    "### Ejercicio 9\n",
    "\n",
    "$$\n",
    "-0.8p_1 + 0.8p_2 + 0.4p_3 = 0 \\\\\n",
    "0.3p_1 - 0.9p_2 + 0.4p_3 = 0 \\\\\n",
    "0.5p_1 + 0.1p_2 - 0.8p_3 = 0\n",
    "$$"
   ]
  },
  {
   "cell_type": "code",
   "execution_count": 79,
   "metadata": {},
   "outputs": [
    {
     "name": "stdout",
     "output_type": "stream",
     "text": [
      "Ecuación matricial Ax = b del sistema\n",
      "[  -0.80    0.80    0.40]     [x1]     [  0.00]\n",
      "[   0.30   -0.90    0.40]  *  [x2]  =  [  0.00]\n",
      "[   0.50    0.10   -0.80]     [x3]     [  0.00]\n",
      "\n",
      "Matriz aumentada asociada al sistema:\n",
      " [[-0.8  0.8  0.4  0. ]\n",
      " [ 0.3 -0.9  0.4  0. ]\n",
      " [ 0.5  0.1 -0.8  0. ]] \n",
      "\n",
      "Tamaño de A:\n",
      " (3, 3)\n",
      "\n",
      "Tamaño de B:\n",
      " (3, 1)\n",
      "\n",
      "Matriz escalonada reducida:\n",
      " [[ 1.  0.  0. -0.]\n",
      " [-0.  1.  0. -0.]\n",
      " [-0. -0.  1. -0.]]\n",
      "\n",
      "Solución del sistema:\n",
      "x1 = -0.0\n",
      "x2 = -0.0\n",
      "x3 = -0.0\n"
     ]
    }
   ],
   "source": [
    "# Exercise 9:\n",
    "A = np.array([[-0.8, 0.8, 0.4], [0.3, -0.9, 0.4], [0.5, 0.1, -0.8]])\n",
    "B = np.array([[0], [0], [0]])\n",
    "\n",
    "gaussian_elimination(A, B)"
   ]
  },
  {
   "cell_type": "markdown",
   "metadata": {},
   "source": [
    "### Ejercicio 10\n",
    "\n",
    "$$\n",
    ".65p_1 + 0.3p_2 + 0.3p_3 + 0.2p_4 = p_1 \\\\\n",
    "0.1p_1 + 0.1p_2 + 0.15p_3 + 0.1p_4 = p_2 \\\\\n",
    "0.25p_1 + 0.35p_2 + 0.15p_3 + 0.3p_4 = p_3 \\\\\n",
    "0.25p_2 + 0.4p_3 + 0.4p_4 = p_4\n",
    "$$"
   ]
  },
  {
   "cell_type": "code",
   "execution_count": 80,
   "metadata": {},
   "outputs": [
    {
     "name": "stdout",
     "output_type": "stream",
     "text": [
      "Ecuación matricial Ax = b del sistema\n",
      "[  -0.35    0.30    0.30    0.20]     [x1]     [  0.00]\n",
      "[   0.10   -0.90    0.15    0.10]     [x2]     [  0.00]\n",
      "[   0.25    0.35   -0.85    0.30]  *  [x3]  =  [  0.00]\n",
      "[   0.00    0.25    0.40   -0.60]     [x4]     [  0.00]\n",
      "\n",
      "Matriz aumentada asociada al sistema:\n",
      " [[-0.35  0.3   0.3   0.2   0.  ]\n",
      " [ 0.1  -0.9   0.15  0.1   0.  ]\n",
      " [ 0.25  0.35 -0.85  0.3   0.  ]\n",
      " [ 0.    0.25  0.4  -0.6   0.  ]] \n",
      "\n",
      "Tamaño de A:\n",
      " (4, 4)\n",
      "\n",
      "Tamaño de B:\n",
      " (4, 1)\n",
      "\n",
      "Matriz escalonada reducida:\n",
      " [[1. 0. 0. 0. 0.]\n",
      " [0. 1. 0. 0. 0.]\n",
      " [0. 0. 1. 0. 0.]\n",
      " [0. 0. 0. 1. 0.]]\n",
      "\n",
      "Solución del sistema:\n",
      "x1 = 0.0\n",
      "x2 = 0.0\n",
      "x3 = 0.0\n",
      "x4 = 0.0\n"
     ]
    }
   ],
   "source": [
    "# Exercise 10:\n",
    "A = np.array([[-0.35, 0.3, 0.3, 0.2], [0.1, -0.9, 0.15, 0.1], [0.25, 0.35, -0.85, 0.3], [0, 0.25, 0.4, -0.6]])\n",
    "B = np.array([[0], [0], [0], [0]])\n",
    "\n",
    "gaussian_elimination(A, B)"
   ]
  },
  {
   "cell_type": "code",
   "execution_count": 81,
   "metadata": {},
   "outputs": [
    {
     "name": "stdout",
     "output_type": "stream",
     "text": [
      "Ecuación matricial Ax = b del sistema\n",
      "[  -35.00     3.00     3.00     2.00]     [x1]     [  0.00]\n",
      "[    1.00    -9.00    15.00     1.00]     [x2]     [  0.00]\n",
      "[   25.00    35.00   -85.00     3.00]  *  [x3]  =  [  0.00]\n",
      "[    0.00    25.00     4.00    -6.00]     [x4]     [  0.00]\n",
      "\n",
      "Matriz aumentada asociada al sistema:\n",
      " [[-35   3   3   2   0]\n",
      " [  1  -9  15   1   0]\n",
      " [ 25  35 -85   3   0]\n",
      " [  0  25   4  -6   0]] \n",
      "\n",
      "Tamaño de A:\n",
      " (4, 4)\n",
      "\n",
      "Tamaño de B:\n",
      " (4, 1)\n",
      "\n",
      "Matriz escalonada reducida:\n",
      " [[1. 0. 0. 0. 0.]\n",
      " [0. 1. 0. 0. 0.]\n",
      " [0. 0. 1. 0. 0.]\n",
      " [0. 0. 0. 1. 0.]]\n",
      "\n",
      "Solución del sistema:\n",
      "x1 = 0.0\n",
      "x2 = 0.0\n",
      "x3 = 0.0\n",
      "x4 = 0.0\n"
     ]
    }
   ],
   "source": [
    "# Exercise 10:\n",
    "A = np.array([[-35, 3, 3, 2], [1, -9, 15, 1], [25, 35, -85, 3], [0, 25, 4, -6]])\n",
    "B = np.array([[0], [0], [0], [0]])\n",
    "\n",
    "gaussian_elimination(A, B)"
   ]
  },
  {
   "cell_type": "markdown",
   "metadata": {},
   "source": [
    "\n",
    "### Ejercicio 11\n",
    "\n",
    "$$\n",
    "2xy + y - z = 3 \\\\\n",
    "x + y + z = 1 \\\\\n",
    "x - 2y - 3z^2 = 4\n",
    "$$\n",
    "\n",
    "Ejercicio 11 (No lineal)\n",
    "No se incluye, ya que no es un sistema de ecuaciones lineales.\n",
    "Hay un $xy$"
   ]
  },
  {
   "cell_type": "markdown",
   "metadata": {},
   "source": [
    "### Ejercicio 12\n",
    "\n",
    "$$\n",
    "\\sqrt{x} + yz = 6 \\\\\n",
    "2x + 3y - z = 5 \\\\\n",
    "6x - 2y - 3z = -7\n",
    "$$\n",
    "\n",
    "Ejercicio 12 (No lineal)\n",
    "No se incluye, ya que no es un sistema de ecuaciones lineales.\n",
    "Hay un $\\sqrt{x}$"
   ]
  },
  {
   "cell_type": "markdown",
   "metadata": {},
   "source": [
    "### Ejercicio 13\n",
    "\n",
    "$$\n",
    "x + y^2 z = 6 \\\\\n",
    "2x + 3y - z = 5 \\\\\n",
    "6xy - 2y - 3z = -7\n",
    "$$\n",
    "\n",
    "Ejercicio 13 (No lineal)\n",
    "No se incluye, ya que no es un sistema de ecuaciones lineales.\n",
    "Hay un $y^2z$"
   ]
  },
  {
   "cell_type": "markdown",
   "metadata": {},
   "source": [
    "### Ejercicio 14\n",
    "$$\n",
    "x + 4y + 3z^2 = 2 \\\\\n",
    "2xy - 6y + 6z = -3 \\\\\n",
    "5x - 2y + 3z = -5\n",
    "$$\n",
    "\n",
    "Ejercicio 14 (No lineal)\n",
    "No se incluye, ya que no es un sistema de ecuaciones lineales.\n",
    "Hay un $3z^2$"
   ]
  },
  {
   "cell_type": "markdown",
   "metadata": {},
   "source": [
    "### Ejercicio 15\n",
    "$$\n",
    "x + y + z = 6 \\\\\n",
    "2y + 3y - z = 5 \\\\\n",
    "6x - 2y - 3z = -7\n",
    "$$"
   ]
  },
  {
   "cell_type": "code",
   "execution_count": 82,
   "metadata": {},
   "outputs": [
    {
     "name": "stdout",
     "output_type": "stream",
     "text": [
      "Ecuación matricial Ax = b del sistema\n",
      "[   1.00    1.00    1.00]     [x1]     [   6.00]\n",
      "[   0.00    5.00   -1.00]  *  [x2]  =  [   5.00]\n",
      "[   6.00   -2.00   -3.00]     [x3]     [  -7.00]\n",
      "\n",
      "Matriz aumentada asociada al sistema:\n",
      " [[ 1  1  1  6]\n",
      " [ 0  5 -1  5]\n",
      " [ 6 -2 -3 -7]] \n",
      "\n",
      "Tamaño de A:\n",
      " (3, 3)\n",
      "\n",
      "Tamaño de B:\n",
      " (3, 1)\n",
      "\n",
      "Matriz escalonada reducida:\n",
      " [[ 1.          0.          0.          1.03773585]\n",
      " [ 0.          1.          0.          1.66037736]\n",
      " [-0.         -0.          1.          3.30188679]]\n",
      "\n",
      "Solución del sistema:\n",
      "x1 = 1.0377358490566042\n",
      "x2 = 1.6603773584905661\n",
      "x3 = 3.30188679245283\n"
     ]
    }
   ],
   "source": [
    "# Exercise 15:\n",
    "A = np.array([[1, 1, 1], [0, 5, -1], [6, -2, -3]])\n",
    "B = np.array([[6], [5], [-7]])\n",
    "\n",
    "gaussian_elimination(A, B)"
   ]
  },
  {
   "cell_type": "markdown",
   "metadata": {},
   "source": [
    "## ¡¡Cuidado con los decimales!!"
   ]
  },
  {
   "cell_type": "code",
   "execution_count": 83,
   "metadata": {},
   "outputs": [
    {
     "name": "stdout",
     "output_type": "stream",
     "text": [
      "Ecuación matricial Ax = b del sistema\n",
      "[  -6.00    2.00    2.00]     [x1]     [  0.00]\n",
      "[   1.00   -3.00    2.00]  *  [x2]  =  [  0.00]\n",
      "[   5.00    1.00   -4.00]     [x3]     [  0.00]\n",
      "\n",
      "Matriz aumentada asociada al sistema:\n",
      " [[-6  2  2  0]\n",
      " [ 1 -3  2  0]\n",
      " [ 5  1 -4  0]] \n",
      "\n",
      "Tamaño de A:\n",
      " (3, 3)\n",
      "\n",
      "Tamaño de B:\n",
      " (3, 1)\n",
      "\n",
      "Matriz escalonada reducida:\n",
      " [[ 1.     0.    -0.625  0.   ]\n",
      " [ 0.     1.    -0.875  0.   ]\n",
      " [ 0.     0.     0.     0.   ]]\n",
      "\n",
      "El sistema tiene infinitas soluciones.\n",
      "1.000*x1 + -0.625*x3 = 0.000\n",
      "1.000*x2 + -0.875*x3 = 0.000\n",
      "x3 ∈ ℝ\n"
     ]
    }
   ],
   "source": [
    "A = np.array([[-6, 2, 2],[1, -3, 2], [5, 1, -4]])\n",
    "B = np.array([[0], [0], [0]])\n",
    "\n",
    "gaussian_elimination(A, B)"
   ]
  },
  {
   "cell_type": "code",
   "execution_count": 84,
   "metadata": {},
   "outputs": [
    {
     "name": "stdout",
     "output_type": "stream",
     "text": [
      "Ecuación matricial Ax = b del sistema\n",
      "[  -0.60    0.20    0.20]     [x1]     [  0.00]\n",
      "[   0.10   -0.30    0.20]  *  [x2]  =  [  0.00]\n",
      "[   0.50    0.10   -0.40]     [x3]     [  0.00]\n",
      "\n",
      "Matriz aumentada asociada al sistema:\n",
      " [[-0.6  0.2  0.2  0. ]\n",
      " [ 0.1 -0.3  0.2  0. ]\n",
      " [ 0.5  0.1 -0.4  0. ]] \n",
      "\n",
      "Tamaño de A:\n",
      " (3, 3)\n",
      "\n",
      "Tamaño de B:\n",
      " (3, 1)\n",
      "\n",
      "Matriz escalonada reducida:\n",
      " [[1. 0. 0. 0.]\n",
      " [0. 1. 0. 0.]\n",
      " [0. 0. 1. 0.]]\n",
      "\n",
      "Solución del sistema:\n",
      "x1 = 0.0\n",
      "x2 = 0.0\n",
      "x3 = 0.0\n"
     ]
    }
   ],
   "source": [
    "A = np.array([[-.6, .2, .2],[.1, -.3, .2], [.5, .1, -.4]])\n",
    "B = np.array([[0], [0], [0]])\n",
    "\n",
    "gaussian_elimination(A, B)"
   ]
  }
 ],
 "metadata": {
  "kernelspec": {
   "display_name": "Python 3",
   "language": "python",
   "name": "python3"
  },
  "language_info": {
   "codemirror_mode": {
    "name": "ipython",
    "version": 3
   },
   "file_extension": ".py",
   "mimetype": "text/x-python",
   "name": "python",
   "nbconvert_exporter": "python",
   "pygments_lexer": "ipython3",
   "version": "3.12.1"
  }
 },
 "nbformat": 4,
 "nbformat_minor": 2
}
