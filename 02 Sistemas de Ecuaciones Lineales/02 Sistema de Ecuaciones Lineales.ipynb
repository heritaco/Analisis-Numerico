{
 "cells": [
  {
   "cell_type": "markdown",
   "metadata": {},
   "source": [
    "# Sistemas de Ecuaciones Lineales\n",
    "\n",
    "**Nombre:** Heriberto Espino Montelongo\n",
    "\n",
    "**Materia:** Análisis numérico\n",
    "\n",
    "**Sección:** 1\n",
    "\n",
    "**Fecha:** 11/09/2024"
   ]
  },
  {
   "cell_type": "code",
   "execution_count": 2,
   "metadata": {},
   "outputs": [],
   "source": [
    "import numpy as np "
   ]
  },
  {
   "cell_type": "markdown",
   "metadata": {},
   "source": [
    "# Solution 1"
   ]
  },
  {
   "cell_type": "code",
   "execution_count": 3,
   "metadata": {},
   "outputs": [],
   "source": [
    "# matriz de coeficientes\n",
    "A = np.array([[1, .5, -.5], [1, 1, 1], [1, -2, -3]])  # 3x3\n",
    "\n",
    "# vetor de terminos independentes\n",
    "b = np.array([[1.5], [1], [4]])  # 3x1"
   ]
  },
  {
   "cell_type": "code",
   "execution_count": 10,
   "metadata": {},
   "outputs": [
    {
     "name": "stdout",
     "output_type": "stream",
     "text": [
      "Solution:\n",
      "[[ 2.]\n",
      " [-1.]\n",
      " [ 0.]]\n"
     ]
    }
   ],
   "source": [
    "print(\"Solution:\")\n",
    "\n",
    "print(np.linalg.solve(A, b))"
   ]
  },
  {
   "cell_type": "markdown",
   "metadata": {},
   "source": [
    "## Solution 2"
   ]
  },
  {
   "cell_type": "code",
   "execution_count": 11,
   "metadata": {},
   "outputs": [],
   "source": [
    "A = np.array([[3,-2], [5,2]]) \n",
    "b = np.array([[4], [12]])"
   ]
  },
  {
   "cell_type": "code",
   "execution_count": 13,
   "metadata": {},
   "outputs": [
    {
     "name": "stdout",
     "output_type": "stream",
     "text": [
      "Solution 2:\n",
      "[[2.]\n",
      " [1.]]\n"
     ]
    }
   ],
   "source": [
    "print(\"Solution 2:\")\n",
    "\n",
    "print(np.linalg.solve(A, b))"
   ]
  },
  {
   "cell_type": "markdown",
   "metadata": {},
   "source": [
    "## Solution 3"
   ]
  },
  {
   "cell_type": "code",
   "execution_count": 14,
   "metadata": {},
   "outputs": [],
   "source": [
    "A = np.array([[1,-1], [2,-2]]) \n",
    "b = np.array([[7], [14]])  "
   ]
  },
  {
   "cell_type": "code",
   "execution_count": null,
   "metadata": {},
   "outputs": [],
   "source": [
    "print(\"Solution 3:\")\n",
    "\n",
    "print(np.linalg.solve(A, b))"
   ]
  },
  {
   "cell_type": "code",
   "execution_count": 20,
   "metadata": {},
   "outputs": [
    {
     "name": "stdout",
     "output_type": "stream",
     "text": [
      "Solution 2:\n",
      "The system has no solution or has infinite solutions\n"
     ]
    }
   ],
   "source": [
    "print(\"Solution 3:\")\n",
    "\n",
    "if np.linalg.det(A) != 0:\n",
    "    print(np.linalg.solve(A, b))\n",
    "else:\n",
    "    print(\"The system has no solution or has infinite solutions\")\n"
   ]
  },
  {
   "cell_type": "markdown",
   "metadata": {},
   "source": [
    "## Solution 4"
   ]
  },
  {
   "cell_type": "code",
   "execution_count": 21,
   "metadata": {},
   "outputs": [],
   "source": [
    "A = np.array([[1,-1], [2,-2]]) \n",
    "b = np.array([[7], [10]])"
   ]
  },
  {
   "cell_type": "code",
   "execution_count": 23,
   "metadata": {},
   "outputs": [
    {
     "name": "stdout",
     "output_type": "stream",
     "text": [
      "Solution 4:\n",
      "The system has no solution or has infinite solutions\n"
     ]
    }
   ],
   "source": [
    "print(\"Solution 4:\")\n",
    "\n",
    "if np.linalg.det(A) != 0:\n",
    "    print(np.linalg.solve(A, b))\n",
    "else:\n",
    "    print(\"The system has no solution or has infinite solutions\")"
   ]
  },
  {
   "cell_type": "markdown",
   "metadata": {},
   "source": [
    "## Solution 5:"
   ]
  },
  {
   "cell_type": "code",
   "execution_count": 24,
   "metadata": {},
   "outputs": [],
   "source": [
    "A = np.array([[2,-3,1], [1,-1,2], [3,1,-1]])\n",
    "b = np.array([[-1], [-3], [9]])"
   ]
  },
  {
   "cell_type": "code",
   "execution_count": 26,
   "metadata": {},
   "outputs": [
    {
     "name": "stdout",
     "output_type": "stream",
     "text": [
      "Solution 5:\n",
      "[[ 2.]\n",
      " [ 1.]\n",
      " [-2.]]\n"
     ]
    }
   ],
   "source": [
    "print(\"Solution 5:\")\n",
    "\n",
    "if np.linalg.det(A) != 0:\n",
    "    print(np.linalg.solve(A, b))\n",
    "else:\n",
    "    print(\"The system has no solution or has infinite solutions\")"
   ]
  },
  {
   "cell_type": "markdown",
   "metadata": {},
   "source": [
    "## Solution 6"
   ]
  },
  {
   "cell_type": "code",
   "execution_count": 27,
   "metadata": {},
   "outputs": [],
   "source": [
    "A = np.array([[1,-1,4], [3,0,1], [-1,1,-4]])\n",
    "b = np.array([[5], [0], [20]])"
   ]
  },
  {
   "cell_type": "code",
   "execution_count": 28,
   "metadata": {},
   "outputs": [
    {
     "name": "stdout",
     "output_type": "stream",
     "text": [
      "Solution :\n",
      "The system has no solution or has infinite solutions\n"
     ]
    }
   ],
   "source": [
    "print(\"Solution 6:\")\n",
    "\n",
    "if np.linalg.det(A) != 0:\n",
    "    print(np.linalg.solve(A, b))\n",
    "else:\n",
    "    print(\"The system has no solution or has infinite solutions\")"
   ]
  },
  {
   "cell_type": "markdown",
   "metadata": {},
   "source": [
    "## Solution 7"
   ]
  },
  {
   "cell_type": "code",
   "execution_count": 31,
   "metadata": {},
   "outputs": [],
   "source": [
    "A = np.array([[-1,1,2], [1,2,1], [-2,-1,1]])\n",
    "b = np.array([[0], [6], [-6]])"
   ]
  },
  {
   "cell_type": "code",
   "execution_count": 32,
   "metadata": {},
   "outputs": [
    {
     "name": "stdout",
     "output_type": "stream",
     "text": [
      "Solution 7:\n",
      "The system has no solution or has infinite solutions\n"
     ]
    }
   ],
   "source": [
    "print(\"Solution 7:\")\n",
    "\n",
    "if np.linalg.det(A) != 0:\n",
    "    print(np.linalg.solve(A, b))\n",
    "else:\n",
    "    print(\"The system has no solution or has infinite solutions\")"
   ]
  },
  {
   "cell_type": "markdown",
   "metadata": {},
   "source": [
    "## Solution 8"
   ]
  },
  {
   "cell_type": "code",
   "execution_count": 35,
   "metadata": {},
   "outputs": [],
   "source": [
    "A = np.array([[-.8,.7], [.8,-.7]])\n",
    "b = np.array([[0], [0]])"
   ]
  },
  {
   "cell_type": "code",
   "execution_count": 36,
   "metadata": {},
   "outputs": [
    {
     "name": "stdout",
     "output_type": "stream",
     "text": [
      "Solution 8:\n",
      "The system has no solution or has infinite solutions\n"
     ]
    }
   ],
   "source": [
    "print(\"Solution 8:\")\n",
    "\n",
    "if np.linalg.det(A) != 0:\n",
    "    print(np.linalg.solve(A, b))\n",
    "else:\n",
    "    print(\"The system has no solution or has infinite solutions\")"
   ]
  },
  {
   "cell_type": "markdown",
   "metadata": {},
   "source": [
    "## Solution 9"
   ]
  },
  {
   "cell_type": "code",
   "execution_count": 37,
   "metadata": {},
   "outputs": [],
   "source": [
    "A = np.array([[-.8,.8,.4], [.3,-.9,.4], [.5,.1,-.8]])\n",
    "b = np.array([[0], [0], [0]]) "
   ]
  },
  {
   "cell_type": "code",
   "execution_count": 38,
   "metadata": {},
   "outputs": [
    {
     "name": "stdout",
     "output_type": "stream",
     "text": [
      "Solution 9:\n",
      "The system has no solution or has infinite solutions\n"
     ]
    }
   ],
   "source": [
    "print(\"Solution 9:\")\n",
    "\n",
    "if np.linalg.det(A) != 0:\n",
    "    print(np.linalg.solve(A, b))\n",
    "else:\n",
    "    print(\"The system has no solution or has infinite solutions\")"
   ]
  },
  {
   "cell_type": "markdown",
   "metadata": {},
   "source": [
    "## Solution 10"
   ]
  },
  {
   "cell_type": "code",
   "execution_count": 39,
   "metadata": {},
   "outputs": [],
   "source": [
    "A = np.array([[-.35,.3,.3,.2], [.1,-.9,.15,.1], [.25,.35,-.85,.3],[0,.25,.4,-.6]])\n",
    "b = np.array([[0], [0], [0], [0]]) "
   ]
  },
  {
   "cell_type": "code",
   "execution_count": 40,
   "metadata": {},
   "outputs": [
    {
     "name": "stdout",
     "output_type": "stream",
     "text": [
      "Solution 10:\n",
      "[[-0.]\n",
      " [-0.]\n",
      " [ 0.]\n",
      " [ 0.]]\n"
     ]
    }
   ],
   "source": [
    "print(\"Solution 10:\")\n",
    "\n",
    "if np.linalg.det(A) != 0:\n",
    "    print(np.linalg.solve(A, b))\n",
    "else:\n",
    "    print(\"The system has no solution or has infinite solutions\")"
   ]
  },
  {
   "cell_type": "markdown",
   "metadata": {},
   "source": [
    "Está ingresando al primer if, no al else.\n",
    "\n",
    "Python encontró el determinante así:"
   ]
  },
  {
   "cell_type": "code",
   "execution_count": 41,
   "metadata": {},
   "outputs": [
    {
     "name": "stdout",
     "output_type": "stream",
     "text": [
      "-2.989275493803247e-17\n"
     ]
    }
   ],
   "source": [
    "print(np.linalg.det(A))"
   ]
  },
  {
   "cell_type": "markdown",
   "metadata": {},
   "source": [
    "-0.00000000000000002\n",
    "\n",
    "Pero sí es cero."
   ]
  }
 ],
 "metadata": {
  "kernelspec": {
   "display_name": "Python 3",
   "language": "python",
   "name": "python3"
  },
  "language_info": {
   "codemirror_mode": {
    "name": "ipython",
    "version": 3
   },
   "file_extension": ".py",
   "mimetype": "text/x-python",
   "name": "python",
   "nbconvert_exporter": "python",
   "pygments_lexer": "ipython3",
   "version": "3.12.1"
  }
 },
 "nbformat": 4,
 "nbformat_minor": 2
}
