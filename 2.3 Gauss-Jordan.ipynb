{
 "cells": [
  {
   "cell_type": "markdown",
   "metadata": {},
   "source": [
    "# Implementación del método de eliminación de Gauss-Jordan\n",
    "\n",
    "**Nombre:** Heriberto Espino Montelongo\n",
    "\n",
    "**Materia:** Análisis numérico\n",
    "\n",
    "**Sección:** 1\n",
    "\n",
    "**Fecha:** 23/09/2024"
   ]
  },
  {
   "cell_type": "code",
   "execution_count": 229,
   "metadata": {},
   "outputs": [],
   "source": [
    "import numpy as np"
   ]
  },
  {
   "cell_type": "markdown",
   "metadata": {},
   "source": [
    "## Declaración"
   ]
  },
  {
   "cell_type": "markdown",
   "metadata": {},
   "source": [
    "Matriz de coeficientes y vector de términos independientes"
   ]
  },
  {
   "cell_type": "code",
   "execution_count": 230,
   "metadata": {},
   "outputs": [],
   "source": [
    "A = np.array([[1, 1, 1], [2, 3, -1], [6, -2, -3]])\n",
    "B = np.array([[6], [5], [-7]])"
   ]
  },
  {
   "cell_type": "code",
   "execution_count": 231,
   "metadata": {},
   "outputs": [],
   "source": [
    "# # Exercise 1: One solution\n",
    "# A = np.array([[3, -2], [5, 2]])\n",
    "# B = np.array([[4], [12]])"
   ]
  },
  {
   "cell_type": "code",
   "execution_count": 232,
   "metadata": {},
   "outputs": [],
   "source": [
    "# # Exercise 2: Infinitely many solutions\n",
    "# A = np.array([[1 ,-1], [2, -2]])\n",
    "# B = np.array([[7], [14]])"
   ]
  },
  {
   "cell_type": "code",
   "execution_count": 233,
   "metadata": {},
   "outputs": [],
   "source": [
    "# # Exercise 3: No solution\n",
    "# A = np.array([[1 ,-1], [2, -2]])\n",
    "# B = np.array([[7], [10]])"
   ]
  },
  {
   "cell_type": "markdown",
   "metadata": {},
   "source": [
    "Tamaño y dimensión de un \"array\""
   ]
  },
  {
   "cell_type": "code",
   "execution_count": 234,
   "metadata": {},
   "outputs": [
    {
     "name": "stdout",
     "output_type": "stream",
     "text": [
      "Matrix A:\n",
      " [[ 1  1  1]\n",
      " [ 2  3 -1]\n",
      " [ 6 -2 -3]] \n",
      "\n",
      "Type of matrix A:\t\t <class 'numpy.ndarray'>\n",
      "Size of matrix A:\t\t (3, 3)\n",
      "Dimension of matrix A:\t\t 2\n",
      "Number of rows in matrix A:\t 3\n",
      "Number of columns in matrix A:\t 3\n"
     ]
    }
   ],
   "source": [
    "print(\"Matrix A:\\n\", A, \"\\n\")\n",
    "\n",
    "sizeA = np.shape(A)\n",
    "\n",
    "print(\"Type of matrix A:\\t\\t\", type(A))\n",
    "print(\"Size of matrix A:\\t\\t\", sizeA)\n",
    "print(\"Dimension of matrix A:\\t\\t\", np.ndim(A))\n",
    "print(\"Number of rows in matrix A:\\t\", sizeA[0])\n",
    "print(\"Number of columns in matrix A:\\t\", sizeA[1])"
   ]
  },
  {
   "cell_type": "code",
   "execution_count": 235,
   "metadata": {},
   "outputs": [
    {
     "name": "stdout",
     "output_type": "stream",
     "text": [
      "Matrix B:\n",
      " [[ 6]\n",
      " [ 5]\n",
      " [-7]] \n",
      "\n",
      "Type of matrix B:\t\t <class 'numpy.ndarray'>\n",
      "Size of matrix B:\t\t (3, 1)\n",
      "Dimension of matrix B:\t\t 2\n",
      "Number of rows in matrix B:\t 3\n",
      "Number of columns in matrix B:\t 1\n"
     ]
    }
   ],
   "source": [
    "print(\"Matrix B:\\n\", B, \"\\n\")\n",
    "\n",
    "sizeB = np.shape(B)\n",
    "\n",
    "print(\"Type of matrix B:\\t\\t\", type(B))\n",
    "print(\"Size of matrix B:\\t\\t\", sizeB)\n",
    "print(\"Dimension of matrix B:\\t\\t\", np.ndim(B))\n",
    "print(\"Number of rows in matrix B:\\t\", sizeB[0])\n",
    "print(\"Number of columns in matrix B:\\t\", sizeB[1])"
   ]
  },
  {
   "cell_type": "markdown",
   "metadata": {},
   "source": [
    "## Matriz aumentada"
   ]
  },
  {
   "cell_type": "code",
   "execution_count": 236,
   "metadata": {},
   "outputs": [
    {
     "name": "stdout",
     "output_type": "stream",
     "text": [
      "Matrix C:\n",
      " [[ 1  1  1  6]\n",
      " [ 2  3 -1  5]\n",
      " [ 6 -2 -3 -7]] \n",
      "\n",
      "Type of matrix C:\t\t <class 'numpy.ndarray'>\n",
      "Size of matrix C:\t\t (3, 4)\n",
      "Dimension of matrix C:\t\t 2\n",
      "Number of rows in matrix C:\t 3\n",
      "Number of columns in matrix C:\t 4\n"
     ]
    }
   ],
   "source": [
    "C = np.concatenate((A, B), axis=1)\n",
    "print(\"Matrix C:\\n\", C, \"\\n\")\n",
    "\n",
    "sizeC = np.shape(C)\n",
    "\n",
    "print(\"Type of matrix C:\\t\\t\", type(C))\n",
    "print(\"Size of matrix C:\\t\\t\", sizeC)\n",
    "print(\"Dimension of matrix C:\\t\\t\", np.ndim(C))\n",
    "print(\"Number of rows in matrix C:\\t\", sizeC[0])\n",
    "print(\"Number of columns in matrix C:\\t\", sizeC[1])"
   ]
  },
  {
   "cell_type": "markdown",
   "metadata": {},
   "source": [
    "## Solve"
   ]
  },
  {
   "cell_type": "code",
   "execution_count": 237,
   "metadata": {},
   "outputs": [
    {
     "name": "stdout",
     "output_type": "stream",
     "text": [
      "Solution X:\n",
      " [[1.]\n",
      " [2.]\n",
      " [3.]]\n"
     ]
    }
   ],
   "source": [
    "X = np.linalg.solve(A, B)\n",
    "print(\"Solution X:\\n\", X)"
   ]
  },
  {
   "cell_type": "markdown",
   "metadata": {},
   "source": [
    "# Implementación del método\n"
   ]
  },
  {
   "cell_type": "code",
   "execution_count": 238,
   "metadata": {},
   "outputs": [
    {
     "name": "stdout",
     "output_type": "stream",
     "text": [
      "Row: 0\n",
      "Column: 0 C[ 0 ][ 0 ]: 1\n",
      "Column: 1 C[ 0 ][ 1 ]: 1\n",
      "Column: 2 C[ 0 ][ 2 ]: 1\n",
      "Column: 3 C[ 0 ][ 3 ]: 6\n",
      "Row: 1\n",
      "Column: 0 C[ 1 ][ 0 ]: 2\n",
      "Column: 1 C[ 1 ][ 1 ]: 3\n",
      "Column: 2 C[ 1 ][ 2 ]: -1\n",
      "Column: 3 C[ 1 ][ 3 ]: 5\n",
      "Row: 2\n",
      "Column: 0 C[ 2 ][ 0 ]: 6\n",
      "Column: 1 C[ 2 ][ 1 ]: -2\n",
      "Column: 2 C[ 2 ][ 2 ]: -3\n",
      "Column: 3 C[ 2 ][ 3 ]: -7\n"
     ]
    }
   ],
   "source": [
    "for row in range(sizeC[0]):\n",
    "    print(\"Row:\", row)\n",
    "    for col in range(sizeC[1]):\n",
    "        print(\"Column:\", col, \"C[\", row, \"][\", col, \"]:\", C[row][col])"
   ]
  },
  {
   "cell_type": "code",
   "execution_count": 240,
   "metadata": {},
   "outputs": [
    {
     "name": "stdout",
     "output_type": "stream",
     "text": [
      "-----------------------------------\n",
      "Column: 0\n",
      "We have our pivot at C[ 0 ][ 0 ]\n",
      "C[c,:]: [1 1 1 6]\n",
      "Row: 0\n",
      "The index of the row is the same as the index of the column\n",
      "Row: 1\n",
      "C[r,:]: [ 0  1 -3 -7]\n",
      "Modified C:\n",
      " [[ 1  1  1  6]\n",
      " [ 0  1 -3 -7]\n",
      " [ 6 -2 -3 -7]] \n",
      "\n",
      "Row: 2\n",
      "C[r,:]: [  0  -8  -9 -43]\n",
      "Modified C:\n",
      " [[  1   1   1   6]\n",
      " [  0   1  -3  -7]\n",
      " [  0  -8  -9 -43]] \n",
      "\n",
      "-----------------------------------\n",
      "Column: 1\n",
      "We have our pivot at C[ 1 ][ 1 ]\n",
      "C[c,:]: [ 0  1 -3 -7]\n",
      "Row: 0\n",
      "C[r,:]: [ 1  0  4 13]\n",
      "Modified C:\n",
      " [[  1   0   4  13]\n",
      " [  0   1  -3  -7]\n",
      " [  0  -8  -9 -43]] \n",
      "\n",
      "Row: 1\n",
      "The index of the row is the same as the index of the column\n",
      "Row: 2\n",
      "C[r,:]: [  0   0 -33 -99]\n",
      "Modified C:\n",
      " [[  1   0   4  13]\n",
      " [  0   1  -3  -7]\n",
      " [  0   0 -33 -99]] \n",
      "\n",
      "-----------------------------------\n",
      "Column: 2\n",
      "C[c,:]: [0 0 1 3]\n",
      "Row: 0\n",
      "C[r,:]: [1 0 0 1]\n",
      "Modified C:\n",
      " [[ 1  0  0  1]\n",
      " [ 0  1 -3 -7]\n",
      " [ 0  0  1  3]] \n",
      "\n",
      "Row: 1\n",
      "C[r,:]: [0 1 0 2]\n",
      "Modified C:\n",
      " [[1 0 0 1]\n",
      " [0 1 0 2]\n",
      " [0 0 1 3]] \n",
      "\n",
      "Row: 2\n",
      "The index of the row is the same as the index of the column\n",
      "Modified C:\n",
      " [[1 0 0 1]\n",
      " [0 1 0 2]\n",
      " [0 0 1 3]] \n",
      "\n"
     ]
    }
   ],
   "source": [
    "for c in range(sizeC[1] - 1):  # -1 to avoid the last column, because C is an augmented matrix\n",
    "    print(\"-----------------------------------\")\n",
    "    print(\"Column:\", c)\n",
    "    if C[c][c] != 1 and C[c][c] != 0:\n",
    "        C[c, :] = C[c, :] / C[c][c]\n",
    "        print(\"C[c,:]:\", C[c, :])\n",
    "    else:\n",
    "        print(\"We have our pivot at C[\", c, \"][\", c, \"]\")\n",
    "        print(\"C[c,:]:\", C[c, :])\n",
    "\n",
    "    for r in range(sizeC[0]):\n",
    "        print(\"Row:\", r)\n",
    "        if r != c:\n",
    "            C[r, :] = C[r, :] - C[r][c] * C[c, :]\n",
    "            print(\"C[r,:]:\", C[r, :])\n",
    "            print(\"Modified C:\\n\", C, \"\\n\")\n",
    "        else:\n",
    "            print(\"The index of the row is the same as the index of the column\")\n",
    "\n",
    "print(\"Modified C:\\n\", C, \"\\n\")"
   ]
  }
 ],
 "metadata": {
  "kernelspec": {
   "display_name": "Python 3",
   "language": "python",
   "name": "python3"
  },
  "language_info": {
   "codemirror_mode": {
    "name": "ipython",
    "version": 3
   },
   "file_extension": ".py",
   "mimetype": "text/x-python",
   "name": "python",
   "nbconvert_exporter": "python",
   "pygments_lexer": "ipython3",
   "version": "3.12.1"
  }
 },
 "nbformat": 4,
 "nbformat_minor": 2
}
