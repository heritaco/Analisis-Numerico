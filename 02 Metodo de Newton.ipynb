{
 "cells": [
  {
   "cell_type": "markdown",
   "metadata": {},
   "source": [
    "# Método de Newton\n",
    "\n",
    "**Nombre:** Heriberto Espino Montelongo\n",
    "\n",
    "**Materia:** Análisis Numérico\n",
    "\n",
    "**Sección:** 1\n",
    "\n",
    "**Fecha:** 21/08/2024"
   ]
  },
  {
   "cell_type": "markdown",
   "metadata": {},
   "source": [
    "El método de Newton es una técnica iterativa utilizada para encontrar aproximaciones de las raíces de una función real, aka $f(x) = 0$.\n",
    "\n",
    "### Descripción del Método\n",
    "Dado un punto inicial $x_0$, el método de Newton genera una secuencia de valores $x_1, x_2, \\dots$ que, bajo ciertas condiciones, convergen a una raíz de la función $f(x)$. Cada iteración se basa en la aproximación de la función $f(x)$ mediante una línea tangente en el punto actual $x_n$. El nuevo punto $x_{n+1}$ se encuentra donde esta línea tangente cruza el eje $x$.\n",
    "\n",
    "La fórmula para la actualización en cada iteración es:\n",
    "\n",
    "$$\n",
    "x_{n+1} = x_n - \\frac{f(x_n)}{f'(x_n)}\n",
    "$$\n",
    "\n",
    "Este proceso se repite hasta que la diferencia entre $f(x_n)$ y cero sea menor que un valor de tolerancia predefinido, $ \\epsilon $, o hasta que se alcance un número máximo de iteraciones.\n",
    "\n",
    "### Ventajas y Limitaciones\n",
    "El método de Newton es rápido y eficiente cuando está cerca de la raíz y la función es bien comportada. Sin embargo, puede no converger si el punto inicial está demasiado lejos de la raíz, si la derivada en algún punto de la iteración es cero, o si la función tiene discontinuidades o cambios bruscos.\n",
    "\n",
    "En el código proporcionado, se implementa el método de Newton con un ciclo que continúa iterando hasta que se encuentra una solución dentro de la tolerancia $ \\epsilon $, o hasta que se alcanza el número máximo de iteraciones especificado por $max_iter$.\n"
   ]
  },
  {
   "cell_type": "code",
   "execution_count": 10,
   "metadata": {},
   "outputs": [],
   "source": [
    "import numpy as np\n",
    "import sympy as sp\n",
    "from sympy.abc import x"
   ]
  },
  {
   "cell_type": "code",
   "execution_count": 11,
   "metadata": {},
   "outputs": [],
   "source": [
    "def newton(f, Df, x0, epsilon, max_iter):\n",
    "    '''Approximate solution of f(x) = 0 by Newton's method.'''\n",
    "\n",
    "    xn = x0\n",
    "    for n in range(0, max_iter):\n",
    "        fxn = f(xn)\n",
    "        if abs(fxn) < epsilon:\n",
    "            print('Found solution after', n, 'iterations.')\n",
    "            return xn\n",
    "        Dfxn = Df(xn)\n",
    "        if Dfxn == 0:\n",
    "            print('Zero derivative. No solution found.')\n",
    "            return None\n",
    "        xn = xn - fxn/Dfxn\n",
    "    print('Exceeded maximum iterations. No solution found.')\n",
    "    return None"
   ]
  },
  {
   "cell_type": "code",
   "execution_count": 12,
   "metadata": {},
   "outputs": [
    {
     "name": "stdout",
     "output_type": "stream",
     "text": [
      "Example 1\n",
      "Found solution after 3 iterations.\n",
      "estimate = 1.4142135623746899\n"
     ]
    }
   ],
   "source": [
    "print(\"Example 1\")\n",
    "\n",
    "f = lambda x: x**2 - 2\n",
    "Df = lambda x: 2*x\n",
    "\n",
    "estimate = newton(f, Df, x0=1.5, epsilon=1e-6, max_iter=10)\n",
    "print(\"estimate =\", estimate)"
   ]
  },
  {
   "cell_type": "code",
   "execution_count": 13,
   "metadata": {},
   "outputs": [
    {
     "name": "stdout",
     "output_type": "stream",
     "text": [
      "Example 2\n",
      "Found solution after 3 iterations.\n",
      "estimate = 1.3652300139161466\n"
     ]
    }
   ],
   "source": [
    "print(\"Example 2\")\n",
    "\n",
    "f = lambda x: x**3 + 4*x**2 - 10\n",
    "Df = lambda x: 3*x**2 + 8*x\n",
    "\n",
    "estimate = newton(f, Df, x0=1.5, epsilon=1e-4, max_iter=10)\n",
    "\n",
    "print(\"estimate =\", estimate)"
   ]
  },
  {
   "cell_type": "code",
   "execution_count": 14,
   "metadata": {},
   "outputs": [
    {
     "name": "stdout",
     "output_type": "stream",
     "text": [
      "Example 3\n",
      "Found solution after 2 iterations.\n",
      "estimate = 0.641714866792004\n"
     ]
    }
   ],
   "source": [
    "print(\"Example 3\")\n",
    "\n",
    "f = lambda x: np.sqrt(x) - np.cos(x)\n",
    "Df = lambda x: 1/(2*np.sqrt(x)) + np.sin(x)\n",
    "\n",
    "estimate = newton(f, Df, x0=0.5, epsilon=1e-3, max_iter=10)\n",
    "\n",
    "print(\"estimate =\", estimate)"
   ]
  },
  {
   "cell_type": "code",
   "execution_count": 15,
   "metadata": {},
   "outputs": [
    {
     "name": "stdout",
     "output_type": "stream",
     "text": [
      "Exercise 1.1\n",
      "Found solution after 8 iterations.\n",
      "estimate = -1.3793645942270283\n"
     ]
    }
   ],
   "source": [
    "print(\"Exercise 1.1\")\n",
    "\n",
    "f = lambda x: x**2 - 10*np.cos(x)\n",
    "Df = lambda x: 2*x + 10*np.sin(x)\n",
    "\n",
    "estimate = newton(f, Df, x0=-100, epsilon=1e-5, max_iter=10)\n",
    "\n",
    "print(\"estimate =\", estimate)"
   ]
  },
  {
   "cell_type": "code",
   "execution_count": 16,
   "metadata": {},
   "outputs": [
    {
     "name": "stdout",
     "output_type": "stream",
     "text": [
      "Exercise 1.2\n",
      "Found solution after 6 iterations.\n",
      "estimate = 1.3793645982150824\n"
     ]
    }
   ],
   "source": [
    "print(\"Exercise 1.2\")\n",
    "\n",
    "f = lambda x: x**2 - 10*np.cos(x)\n",
    "Df = lambda x: 2*x + 10*np.sin(x)\n",
    "\n",
    "estimate = newton(f, Df, x0=50, epsilon=1e-5, max_iter=10)\n",
    "\n",
    "print(\"estimate =\", estimate)"
   ]
  },
  {
   "cell_type": "code",
   "execution_count": 17,
   "metadata": {},
   "outputs": [
    {
     "name": "stdout",
     "output_type": "stream",
     "text": [
      "Exercise 2\n",
      "Found solution after 6 iterations.\n",
      "estimate = 1.4655712318767877\n"
     ]
    }
   ],
   "source": [
    "print(\"Exercise 2\")\n",
    "\n",
    "f = lambda x: x**3 - x**2 - 1\n",
    "Df = lambda x: 3*x**2 - 2*x\n",
    "\n",
    "estimate = newton(f, Df, x0=1, epsilon=1e-10, max_iter=10)\n",
    "\n",
    "print(\"estimate =\", estimate)"
   ]
  },
  {
   "cell_type": "code",
   "execution_count": 18,
   "metadata": {},
   "outputs": [
    {
     "name": "stdout",
     "output_type": "stream",
     "text": [
      "Exercise 3\n",
      "Exceeded maximum iterations. No solution found.\n",
      "estimate = None\n"
     ]
    }
   ],
   "source": [
    "print(\"Exercise 3\")\n",
    "\n",
    "f = lambda x: x**(1/3)\n",
    "Df = lambda x: 1/3*x**(-2/3)\n",
    "\n",
    "estimate = newton(f, Df, x0=0.1, epsilon=1e-2, max_iter=10)\n",
    "\n",
    "print(\"estimate =\", estimate)"
   ]
  }
 ],
 "metadata": {
  "kernelspec": {
   "display_name": "Python 3",
   "language": "python",
   "name": "python3"
  },
  "language_info": {
   "codemirror_mode": {
    "name": "ipython",
    "version": 3
   },
   "file_extension": ".py",
   "mimetype": "text/x-python",
   "name": "python",
   "nbconvert_exporter": "python",
   "pygments_lexer": "ipython3",
   "version": "3.12.1"
  }
 },
 "nbformat": 4,
 "nbformat_minor": 2
}
