{
 "cells": [
  {
   "cell_type": "markdown",
   "id": "abcce504",
   "metadata": {},
   "source": [
    "# Ejercicios SEL\n",
    "\n",
    "**Nombre:** Heriberto Espino Montelongo\n",
    "\n",
    "**Materia:** Análisis numérico\n",
    "\n",
    "**Sección:** 1\n",
    "\n",
    "**Fecha:** 30/09/2024"
   ]
  },
  {
   "cell_type": "code",
   "execution_count": 1,
   "id": "fa96a539",
   "metadata": {},
   "outputs": [],
   "source": [
    "from pprint import pprint\n",
    "import sympy as sp\n",
    "from sympy import Matrix\n",
    "import numpy as np\n",
    "\n",
    "def no_meter_decimales(augmented_A): \n",
    "    print('The augmented matrix (A|b):')\n",
    "    pprint(augmented_A)\n",
    "    \n",
    "    # Convert the augmented matrix to a sympy Matrix\n",
    "    augmented_A = Matrix(augmented_A)\n",
    "    \n",
    "    # Extract A and b from the augmented matrix\n",
    "    A = augmented_A[:, :-1]\n",
    "    b = augmented_A[:, -1]\n",
    "    \n",
    "    # Convert A and b to numpy arrays\n",
    "    A = np.array(A).astype(np.float64)\n",
    "    b = np.array(b).astype(np.float64)\n",
    "    \n",
    "    # Compute the row echelon form using sympy\n",
    "    A_new = augmented_A.rref()[0]\n",
    "    print('\\nThe row echelon form of the matrix is:')\n",
    "    pprint(A_new)\n",
    "\n",
    "    # Compute the determinant of A\n",
    "    detA = np.linalg.det(A)\n",
    "\n",
    "    if detA == 0:\n",
    "        print(\"\\nThe system of linear equations has no solution or infinitely many solutions.\")\n",
    "    else: \n",
    "        print(\"\\nThe system of linear equations has exactly one solution:\")"
   ]
  },
  {
   "cell_type": "markdown",
   "id": "ca0318ef",
   "metadata": {},
   "source": [
    "## Ejercicios SEL 2x2"
   ]
  },
  {
   "cell_type": "markdown",
   "id": "5cae4dc1",
   "metadata": {},
   "source": [
    "### 1. Una única solución"
   ]
  },
  {
   "cell_type": "code",
   "execution_count": 4,
   "id": "f0e7573a",
   "metadata": {},
   "outputs": [
    {
     "name": "stdout",
     "output_type": "stream",
     "text": [
      "The augmented matrix (A|b):\n",
      "Matrix([\n",
      "[3, -2,  4],\n",
      "[5,  2, 12]])\n",
      "\n",
      "The row echelon form of the matrix is:\n",
      "Matrix([\n",
      "[1, 0, 2],\n",
      "[0, 1, 1]])\n",
      "\n",
      "The system of linear equations has exactly one solution:\n"
     ]
    }
   ],
   "source": [
    "augmented_A = sp.Matrix([[3, -2, 4],[5, 2, 12]])\n",
    "no_meter_decimales(augmented_A)\n"
   ]
  },
  {
   "cell_type": "markdown",
   "id": "f0275c3f",
   "metadata": {},
   "source": [
    "### 2. Infinitas soluciones"
   ]
  },
  {
   "cell_type": "code",
   "execution_count": 5,
   "id": "a5cc9343",
   "metadata": {},
   "outputs": [
    {
     "name": "stdout",
     "output_type": "stream",
     "text": [
      "The augmented matrix (A|b):\n",
      "Matrix([\n",
      "[1, -1,  7],\n",
      "[2, -2, 14]])\n",
      "\n",
      "The row echelon form of the matrix is:\n",
      "Matrix([\n",
      "[1, -1, 7],\n",
      "[0,  0, 0]])\n",
      "\n",
      "The system of linear equations has no solution or infinitely many solutions.\n"
     ]
    }
   ],
   "source": [
    "augmented_A = sp.Matrix([[1, -1, 7],[2, -2, 14]])\n",
    "no_meter_decimales(augmented_A)"
   ]
  },
  {
   "cell_type": "markdown",
   "id": "1d4897f6",
   "metadata": {},
   "source": [
    "### 3. No tiene solución"
   ]
  },
  {
   "cell_type": "code",
   "execution_count": 6,
   "id": "b2bb4acb",
   "metadata": {},
   "outputs": [
    {
     "name": "stdout",
     "output_type": "stream",
     "text": [
      "The augmented matrix (A|b):\n",
      "Matrix([\n",
      "[1, -1,  7],\n",
      "[2, -2, 10]])\n",
      "\n",
      "The row echelon form of the matrix is:\n",
      "Matrix([\n",
      "[1, -1, 0],\n",
      "[0,  0, 1]])\n",
      "\n",
      "The system of linear equations has no solution or infinitely many solutions.\n"
     ]
    }
   ],
   "source": [
    "augmented_A = sp.Matrix([[1, -1, 7],[2, -2, 10]])\n",
    "no_meter_decimales(augmented_A)\n"
   ]
  },
  {
   "cell_type": "markdown",
   "id": "801bfdbb",
   "metadata": {},
   "source": [
    "### X. Extra"
   ]
  },
  {
   "cell_type": "code",
   "execution_count": 7,
   "id": "00e2844c",
   "metadata": {},
   "outputs": [
    {
     "name": "stdout",
     "output_type": "stream",
     "text": [
      "The augmented matrix (A|b):\n",
      "Matrix([\n",
      "[-0.8,  0.7, 0],\n",
      "[ 0.8, -0.7, 0]])\n",
      "\n",
      "The row echelon form of the matrix is:\n",
      "Matrix([\n",
      "[1, -0.875, 0],\n",
      "[0,      0, 0]])\n",
      "\n",
      "The system of linear equations has no solution or infinitely many solutions.\n"
     ]
    }
   ],
   "source": [
    "augmented_A = sp.Matrix([[-.8, .7, 0],[.8, -.7, 0]])\n",
    "no_meter_decimales(augmented_A)"
   ]
  },
  {
   "cell_type": "markdown",
   "id": "833f8af4",
   "metadata": {},
   "source": [
    "### Otros ejercicios"
   ]
  },
  {
   "cell_type": "code",
   "execution_count": 8,
   "id": "b12ee398",
   "metadata": {},
   "outputs": [
    {
     "name": "stdout",
     "output_type": "stream",
     "text": [
      "[ 0  1  2  3  4  5  6  7  8  9 10 11 12 13 14 15]\n"
     ]
    }
   ],
   "source": [
    "C = np.arange(16)\n",
    "print(C)"
   ]
  },
  {
   "cell_type": "code",
   "execution_count": 9,
   "id": "7c6917d6",
   "metadata": {},
   "outputs": [
    {
     "name": "stdout",
     "output_type": "stream",
     "text": [
      "[[ 0  1  2  3]\n",
      " [ 4  5  6  7]\n",
      " [ 8  9 10 11]\n",
      " [12 13 14 15]]\n"
     ]
    }
   ],
   "source": [
    "C.shape = (4,4)  # reordena el arreglo anterior a un arreglo de 4x4\n",
    "print(C)"
   ]
  },
  {
   "cell_type": "code",
   "execution_count": 10,
   "id": "e2542a9b",
   "metadata": {},
   "outputs": [
    {
     "name": "stdout",
     "output_type": "stream",
     "text": [
      "Primera fila [0 1 2 3]\n"
     ]
    }
   ],
   "source": [
    "print('Primera fila', C[0])"
   ]
  },
  {
   "cell_type": "code",
   "execution_count": 11,
   "id": "a4600aea",
   "metadata": {},
   "outputs": [
    {
     "name": "stdout",
     "output_type": "stream",
     "text": [
      "Última fila [12 13 14 15]\n"
     ]
    }
   ],
   "source": [
    "print('Última fila', C[-1])"
   ]
  },
  {
   "cell_type": "code",
   "execution_count": 12,
   "id": "33de6504",
   "metadata": {},
   "outputs": [
    {
     "data": {
      "text/plain": [
       "array([[0., 0., 0., 0., 0., 0., 0., 0.],\n",
       "       [0., 0., 0., 0., 0., 0., 0., 0.],\n",
       "       [0., 0., 0., 0., 0., 0., 0., 0.],\n",
       "       [0., 0., 0., 0., 0., 0., 0., 0.],\n",
       "       [0., 0., 0., 0., 0., 0., 0., 0.],\n",
       "       [0., 0., 0., 0., 0., 0., 0., 0.],\n",
       "       [0., 0., 0., 0., 0., 0., 0., 0.],\n",
       "       [0., 0., 0., 0., 0., 0., 0., 0.]])"
      ]
     },
     "execution_count": 12,
     "metadata": {},
     "output_type": "execute_result"
    }
   ],
   "source": [
    "E = np.zeros((8,8))\n",
    "E"
   ]
  },
  {
   "cell_type": "code",
   "execution_count": 13,
   "id": "bda36ce2",
   "metadata": {},
   "outputs": [
    {
     "data": {
      "text/plain": [
       "array([[1., 0., 0., 0., 0., 0., 0., 0.],\n",
       "       [0., 1., 0., 0., 0., 0., 0., 0.],\n",
       "       [0., 0., 1., 0., 0., 0., 0., 0.],\n",
       "       [0., 0., 0., 1., 0., 0., 0., 0.],\n",
       "       [0., 0., 0., 0., 1., 0., 0., 0.],\n",
       "       [0., 0., 0., 0., 0., 1., 0., 0.],\n",
       "       [0., 0., 0., 0., 0., 0., 1., 0.],\n",
       "       [0., 0., 0., 0., 0., 0., 0., 1.]])"
      ]
     },
     "execution_count": 13,
     "metadata": {},
     "output_type": "execute_result"
    }
   ],
   "source": [
    "for i in range(8):\n",
    "    E[i][i] = 1\n",
    "E"
   ]
  },
  {
   "cell_type": "code",
   "execution_count": 14,
   "id": "267124b9",
   "metadata": {},
   "outputs": [
    {
     "name": "stdout",
     "output_type": "stream",
     "text": [
      "[[1. 1. 1. 1. 1.]\n",
      " [1. 1. 1. 1. 1.]\n",
      " [1. 1. 1. 1. 1.]\n",
      " [1. 1. 1. 1. 1.]]\n"
     ]
    }
   ],
   "source": [
    "F = np.ones((4,5))\n",
    "print(F)"
   ]
  },
  {
   "cell_type": "code",
   "execution_count": 15,
   "id": "08c85ce5",
   "metadata": {},
   "outputs": [
    {
     "data": {
      "text/plain": [
       "array([[1., 1., 1., 1., 1.],\n",
       "       [1., 1., 1., 1., 1.],\n",
       "       [1., 1., 1., 1., 1.],\n",
       "       [1., 1., 1., 1., 1.]])"
      ]
     },
     "execution_count": 15,
     "metadata": {},
     "output_type": "execute_result"
    }
   ],
   "source": [
    "F.astype(int)  \n",
    "F"
   ]
  },
  {
   "cell_type": "code",
   "execution_count": 16,
   "id": "4518bda7",
   "metadata": {},
   "outputs": [
    {
     "name": "stdout",
     "output_type": "stream",
     "text": [
      "Matrix([\n",
      "[1.0, 1.0, 1.0, 1.0, 1.0],\n",
      "[1.0, 1.0, 1.0, 1.0, 1.0],\n",
      "[1.0, 1.0, 1.0, 1.0, 1.0],\n",
      "[1.0, 1.0, 1.0, 1.0, 1.0]])\n"
     ]
    }
   ],
   "source": [
    "augmented_F = Matrix(F)\n",
    "pprint(augmented_F)"
   ]
  },
  {
   "cell_type": "code",
   "execution_count": 17,
   "id": "59dac7d2",
   "metadata": {},
   "outputs": [
    {
     "data": {
      "text/latex": [
       "$\\displaystyle \\left[\\begin{matrix}1 & 1.0 & 1.0 & 1.0 & 1.0\\\\0 & 0 & 0 & 0 & 0\\\\0 & 0 & 0 & 0 & 0\\\\0 & 0 & 0 & 0 & 0\\end{matrix}\\right]$"
      ],
      "text/plain": [
       "Matrix([\n",
       "[1, 1.0, 1.0, 1.0, 1.0],\n",
       "[0,   0,   0,   0,   0],\n",
       "[0,   0,   0,   0,   0],\n",
       "[0,   0,   0,   0,   0]])"
      ]
     },
     "execution_count": 17,
     "metadata": {},
     "output_type": "execute_result"
    }
   ],
   "source": [
    "augmented_F.rref()[0]"
   ]
  },
  {
   "cell_type": "markdown",
   "id": "a6c67ae5",
   "metadata": {},
   "source": [
    "## Ejercicios SEL 3x3"
   ]
  },
  {
   "cell_type": "markdown",
   "id": "a0a3c389",
   "metadata": {},
   "source": [
    "### 4. Una única solución"
   ]
  },
  {
   "cell_type": "code",
   "execution_count": 18,
   "id": "fa55d6a3",
   "metadata": {},
   "outputs": [
    {
     "name": "stdout",
     "output_type": "stream",
     "text": [
      "The augmented matrix (A|b):\n",
      "Matrix([\n",
      "[2, -3,  1, -1],\n",
      "[1, -1,  2, -3],\n",
      "[3,  1, -1,  9]])\n",
      "\n",
      "The row echelon form of the matrix is:\n",
      "Matrix([\n",
      "[1, 0, 0,  2],\n",
      "[0, 1, 0,  1],\n",
      "[0, 0, 1, -2]])\n",
      "\n",
      "The system of linear equations has exactly one solution:\n"
     ]
    }
   ],
   "source": [
    "augmented_A = sp.Matrix([[2, -3, 1, -1],[1, -1, 2, -3], [3, 1, -1, 9]])\n",
    "no_meter_decimales(augmented_A)"
   ]
  },
  {
   "cell_type": "markdown",
   "id": "70801a6b",
   "metadata": {},
   "source": [
    "### 5. No tiene soluciones"
   ]
  },
  {
   "cell_type": "code",
   "execution_count": 19,
   "id": "24c033a4",
   "metadata": {},
   "outputs": [
    {
     "name": "stdout",
     "output_type": "stream",
     "text": [
      "The augmented matrix (A|b):\n",
      "Matrix([\n",
      "[ 1, -1,  4, -5],\n",
      "[ 3,  0,  1,  0],\n",
      "[-1,  1, -4, 20]])\n",
      "\n",
      "The row echelon form of the matrix is:\n",
      "Matrix([\n",
      "[1, 0,   1/3, 0],\n",
      "[0, 1, -11/3, 0],\n",
      "[0, 0,     0, 1]])\n",
      "\n",
      "The system of linear equations has no solution or infinitely many solutions.\n"
     ]
    }
   ],
   "source": [
    "augmented_A = sp.Matrix([[1, -1, 4, -5],[3, 0, 1, 0], [-1, 1, -4, 20]])\n",
    "no_meter_decimales(augmented_A)"
   ]
  },
  {
   "cell_type": "markdown",
   "id": "631b397b",
   "metadata": {},
   "source": [
    "$$ 0 =1 \\!$$"
   ]
  },
  {
   "cell_type": "markdown",
   "id": "05de72c3",
   "metadata": {},
   "source": [
    "### 6. Infinitas soluciones"
   ]
  },
  {
   "cell_type": "code",
   "execution_count": 20,
   "id": "b731931d",
   "metadata": {},
   "outputs": [
    {
     "name": "stdout",
     "output_type": "stream",
     "text": [
      "The augmented matrix (A|b):\n",
      "Matrix([\n",
      "[-1,  1, 2,  0],\n",
      "[ 1,  2, 1,  6],\n",
      "[-2, -1, 1, -6]])\n",
      "\n",
      "The row echelon form of the matrix is:\n",
      "Matrix([\n",
      "[1, 0, -1, 2],\n",
      "[0, 1,  1, 2],\n",
      "[0, 0,  0, 0]])\n",
      "\n",
      "The system of linear equations has no solution or infinitely many solutions.\n"
     ]
    }
   ],
   "source": [
    "augmented_A = sp.Matrix([[-1, 1, 2, 0],[1, 2, 1, 6], [-2, -1, 1, -6]])\n",
    "no_meter_decimales(augmented_A)\n"
   ]
  },
  {
   "cell_type": "markdown",
   "id": "04110050",
   "metadata": {},
   "source": [
    "$$ x = z - 2 $$\n",
    "$$y = z-2$$\n",
    "$$ z \\in \\R$$"
   ]
  },
  {
   "cell_type": "markdown",
   "id": "8ab465ca",
   "metadata": {},
   "source": [
    "### 7. Decimales"
   ]
  },
  {
   "cell_type": "code",
   "execution_count": 21,
   "id": "61e0ca03",
   "metadata": {},
   "outputs": [
    {
     "name": "stdout",
     "output_type": "stream",
     "text": [
      "The augmented matrix (A|b):\n",
      "Matrix([\n",
      "[-0.6,  0.2,  0.2, 0],\n",
      "[ 0.1, -0.3,  0.2, 0],\n",
      "[ 0.5,  0.1, -0.4, 0]])\n",
      "\n",
      "The row echelon form of the matrix is:\n",
      "Matrix([\n",
      "[1, 0, 0, 0],\n",
      "[0, 1, 0, 0],\n",
      "[0, 0, 1, 0]])\n",
      "\n",
      "The system of linear equations has exactly one solution:\n"
     ]
    }
   ],
   "source": [
    "augmented_A = sp.Matrix([[-.6, .2, .2, 0],[.1, -.3, .2, 0], [.5, .1, -.4, 0]])\n",
    "no_meter_decimales(augmented_A)"
   ]
  },
  {
   "cell_type": "markdown",
   "id": "b02484e5",
   "metadata": {},
   "source": [
    "$$ x = 0 $$\n",
    "$$y = 0$$\n",
    "$$ z = 0$$"
   ]
  },
  {
   "cell_type": "code",
   "execution_count": 22,
   "id": "6478a260",
   "metadata": {},
   "outputs": [
    {
     "name": "stdout",
     "output_type": "stream",
     "text": [
      "The augmented matrix (A|b):\n",
      "Matrix([\n",
      "[-6,  2,  2, 0],\n",
      "[ 1, -3,  2, 0],\n",
      "[ 5,  1, -4, 0]])\n",
      "\n",
      "The row echelon form of the matrix is:\n",
      "Matrix([\n",
      "[1, 0, -5/8, 0],\n",
      "[0, 1, -7/8, 0],\n",
      "[0, 0,    0, 0]])\n",
      "\n",
      "The system of linear equations has no solution or infinitely many solutions.\n"
     ]
    }
   ],
   "source": [
    "augmented_A = sp.Matrix([[-6, 2, 2, 0],[1, -3, 2, 0], [5, 1, -4, 0]])\n",
    "no_meter_decimales(augmented_A)"
   ]
  }
 ],
 "metadata": {
  "kernelspec": {
   "display_name": "Python 3",
   "language": "python",
   "name": "python3"
  },
  "language_info": {
   "codemirror_mode": {
    "name": "ipython",
    "version": 3
   },
   "file_extension": ".py",
   "mimetype": "text/x-python",
   "name": "python",
   "nbconvert_exporter": "python",
   "pygments_lexer": "ipython3",
   "version": "3.12.1"
  }
 },
 "nbformat": 4,
 "nbformat_minor": 5
}
