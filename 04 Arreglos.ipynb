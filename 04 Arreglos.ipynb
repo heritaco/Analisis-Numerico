{
 "cells": [
  {
   "cell_type": "markdown",
   "metadata": {},
   "source": [
    "# Arreglos\n",
    "\n",
    "**Nombre:** Heriberto Espino Montelongo\n",
    "\n",
    "**Materia:** Análisis Numérico\n",
    "\n",
    "**Sección:** 1\n",
    "\n",
    "**Fecha:** 02/09/2024"
   ]
  },
  {
   "cell_type": "code",
   "execution_count": 5,
   "metadata": {},
   "outputs": [
    {
     "name": "stdout",
     "output_type": "stream",
     "text": [
      "el valor de b[0] es 1\n",
      "el valor de b[1] es 2\n"
     ]
    }
   ],
   "source": [
    "# declaración\n",
    "b = [1, 2, 3, 4, 5]\n",
    "\n",
    "# acceso\n",
    "elemento1 = b[0]\n",
    "elemento2 = b[1]\n",
    "\n",
    "# impresión\n",
    "print(\"el valor de b[0] es\", elemento1)\n",
    "print(\"el valor de b[1] es\",elemento2)"
   ]
  },
  {
   "cell_type": "code",
   "execution_count": 6,
   "metadata": {},
   "outputs": [
    {
     "name": "stdout",
     "output_type": "stream",
     "text": [
      "['r', 'o', 'o', 't']\n"
     ]
    }
   ],
   "source": [
    "a = ['r', 'o', 'o', 't']\n",
    "print(a)"
   ]
  },
  {
   "cell_type": "code",
   "execution_count": 8,
   "metadata": {},
   "outputs": [
    {
     "name": "stdout",
     "output_type": "stream",
     "text": [
      "['r', 'o', 'o', 't', 1, 2, 3, 4, 5, 'a', 'n', 's']\n"
     ]
    }
   ],
   "source": [
    "c = ['a', 'n', 's']\n",
    "\n",
    "print(a+b+c)"
   ]
  },
  {
   "cell_type": "code",
   "execution_count": 10,
   "metadata": {},
   "outputs": [
    {
     "name": "stdout",
     "output_type": "stream",
     "text": [
      "[1, 2, 3, 4, 5, 1.1, 2.1, 3.1, 4.4, 5.5]\n"
     ]
    }
   ],
   "source": [
    "b = [1, 2, 3, 4, 5]\n",
    "b_aprox = [1.1, 2.1, 3.1, 4.4, 5.5]\n",
    "\n",
    "print(b + b_aprox)"
   ]
  },
  {
   "cell_type": "markdown",
   "metadata": {},
   "source": [
    "El símbolo de sumar es concatentar"
   ]
  },
  {
   "cell_type": "markdown",
   "metadata": {},
   "source": [
    "# Arreglos numéricos en Python"
   ]
  },
  {
   "cell_type": "code",
   "execution_count": 24,
   "metadata": {},
   "outputs": [
    {
     "name": "stdout",
     "output_type": "stream",
     "text": [
      "[0. 1. 2.]\n",
      "<class 'numpy.ndarray'>\n",
      "<class 'numpy.float64'>\n"
     ]
    }
   ],
   "source": [
    "from numpy import linspace\n",
    "# es igual a importar \"import numpy as np\" y luego llamar a la función como \"np.linspace\"\n",
    "\n",
    "x = linspace(0, 2, 3)\n",
    "# linspace(inicio, fin, cantidad de elementos)\n",
    "\n",
    "print(x)\n",
    "# son 3 elementos entre 0 y 2, las particiones\n",
    "\n",
    "print(type(x))\n",
    "\n",
    "print(type(x[0]))"
   ]
  },
  {
   "cell_type": "code",
   "execution_count": 14,
   "metadata": {},
   "outputs": [
    {
     "name": "stdout",
     "output_type": "stream",
     "text": [
      "[0. 1. 2.]\n",
      "[ 0.  2.  4.  6.  8. 10.]\n"
     ]
    },
    {
     "ename": "ValueError",
     "evalue": "operands could not be broadcast together with shapes (3,) (6,) ",
     "output_type": "error",
     "traceback": [
      "\u001b[1;31m---------------------------------------------------------------------------\u001b[0m",
      "\u001b[1;31mValueError\u001b[0m                                Traceback (most recent call last)",
      "Cell \u001b[1;32mIn[14], line 9\u001b[0m\n\u001b[0;32m      6\u001b[0m \u001b[38;5;28mprint\u001b[39m(x)\n\u001b[0;32m      7\u001b[0m \u001b[38;5;28mprint\u001b[39m(y)\n\u001b[1;32m----> 9\u001b[0m \u001b[38;5;28mprint\u001b[39m(\u001b[43mx\u001b[49m\u001b[43m \u001b[49m\u001b[38;5;241;43m+\u001b[39;49m\u001b[43m \u001b[49m\u001b[43my\u001b[49m)\n",
      "\u001b[1;31mValueError\u001b[0m: operands could not be broadcast together with shapes (3,) (6,) "
     ]
    }
   ],
   "source": [
    "import numpy as np\n",
    "\n",
    "x = np.linspace(0, 2, 3)\n",
    "y = np.linspace(0, 10, 6)\n",
    "\n",
    "print(x)\n",
    "print(y)\n",
    "\n",
    "print(x + y) # Da error porque tienen que ser del mismo tamaño"
   ]
  },
  {
   "cell_type": "markdown",
   "metadata": {},
   "source": [
    "## Funcion zeros"
   ]
  },
  {
   "cell_type": "code",
   "execution_count": 23,
   "metadata": {},
   "outputs": [
    {
     "name": "stdout",
     "output_type": "stream",
     "text": [
      "Vectores x e y:\n",
      "[0 0 0]\n",
      "[0. 0. 0.]\n",
      "\n",
      "Número de elementos de x e y:\n",
      "3\n",
      "3\n"
     ]
    }
   ],
   "source": [
    "from numpy import zeros\n",
    "\n",
    "x = zeros(3, int) # array de 3 elementos con valor 0\n",
    "y = zeros(3) # array de 3 elementos con valor 0.0\n",
    "\n",
    "print(\"Vectores x e y:\")\n",
    "print(x)\n",
    "print(y)\n",
    "\n",
    "print(\"\\nNúmero de elementos de x e y:\")\n",
    "print(len(x))\n",
    "print(len(y))"
   ]
  },
  {
   "cell_type": "markdown",
   "metadata": {},
   "source": [
    "## Función 'array'"
   ]
  },
  {
   "cell_type": "code",
   "execution_count": 20,
   "metadata": {},
   "outputs": [
    {
     "name": "stdout",
     "output_type": "stream",
     "text": [
      "Son elementos enteros\n",
      "[1 2 3 4 5]\n",
      "\n",
      "Son elementos flotantes\n",
      "[1. 2. 3. 4. 5.]\n"
     ]
    }
   ],
   "source": [
    "from numpy import array\n",
    "\n",
    "x = array([1, 2, 3, 4, 5])\n",
    "print(\"Son elementos enteros\")\n",
    "print(x)\n",
    "\n",
    "x = array([1., 2., 3., 4., 5.])\n",
    "print(\"\\nSon elementos flotantes\")\n",
    "print(x)"
   ]
  },
  {
   "cell_type": "markdown",
   "metadata": {},
   "source": [
    "# Array"
   ]
  },
  {
   "cell_type": "code",
   "execution_count": 28,
   "metadata": {},
   "outputs": [
    {
     "name": "stdout",
     "output_type": "stream",
     "text": [
      "['r', 'o', 'o', 't']\n",
      "[ 2.1  4.2  6.3  8.4 10.5]\n"
     ]
    }
   ],
   "source": [
    "c = ['a', 'n', 's']\n",
    "a = ['r', 'o', 'o', 't']\n",
    "print(a)\n",
    "\n",
    "b = np.array([1, 2, 3, 4, 5])\n",
    "b_aprox = np.array([1.1, 2.2, 3.3, 4.4, 5.5])\n",
    "print(b + b_aprox)"
   ]
  },
  {
   "cell_type": "code",
   "execution_count": 29,
   "metadata": {},
   "outputs": [
    {
     "name": "stdout",
     "output_type": "stream",
     "text": [
      "Error absoluto\n",
      "[0.1 0.2 0.3 0.4 0.5]\n"
     ]
    }
   ],
   "source": [
    "print(\"Error absoluto\")\n",
    "print(abs(b - b_aprox))"
   ]
  },
  {
   "cell_type": "code",
   "execution_count": 31,
   "metadata": {},
   "outputs": [
    {
     "name": "stdout",
     "output_type": "stream",
     "text": [
      "Lista de listas o listas anidadas\n",
      "[['r', 'o', 'o', 't'], array([1, 2, 3, 4, 5]), ['a', 'n', 's']]\n"
     ]
    }
   ],
   "source": [
    "print(\"Lista de listas o listas anidadas\")\n",
    "m = [a, b, c]\n",
    "print(m)"
   ]
  },
  {
   "cell_type": "code",
   "execution_count": 34,
   "metadata": {},
   "outputs": [
    {
     "name": "stdout",
     "output_type": "stream",
     "text": [
      "Matriz con Python\n",
      "[[1, 2, 3], [4, 5, 6], [7, 8, 9]]\n"
     ]
    }
   ],
   "source": [
    "print(\"Matriz con Python\")\n",
    "matriz = [[1, 2, 3], [4, 5, 6], [7, 8, 9]]\n",
    "print(matriz)"
   ]
  },
  {
   "cell_type": "code",
   "execution_count": 35,
   "metadata": {},
   "outputs": [
    {
     "name": "stdout",
     "output_type": "stream",
     "text": [
      "Matriz con NumPy\n",
      "[[1 2 3]\n",
      " [4 5 6]\n",
      " [7 8 9]]\n"
     ]
    }
   ],
   "source": [
    "print(\"Matriz con NumPy\")\n",
    "matriz = np.array([[1, 2, 3], [4, 5, 6], [7, 8, 9]])\n",
    "print(matriz)"
   ]
  },
  {
   "cell_type": "code",
   "execution_count": 38,
   "metadata": {},
   "outputs": [
    {
     "name": "stdout",
     "output_type": "stream",
     "text": [
      "Acceso a matrices\n",
      "Elemento en la posición 0, 0: 1\n",
      "Elemento en la posición 0, 1: 2\n",
      "Elemento en la posición 2, 2: 9\n"
     ]
    }
   ],
   "source": [
    "print(\"Acceso a matrices\")\n",
    "\n",
    "matriz = np.array([[1, 2, 3], [4, 5, 6], [7, 8, 9]])\n",
    "\n",
    "elemento00 = matriz[0, 0]\n",
    "elemento01 = matriz[0, 1]\n",
    "elemento02 = matriz[2, 2]\n",
    "\n",
    "print(\"Elemento en la posición 0, 0:\", elemento00)\n",
    "print(\"Elemento en la posición 0, 1:\", elemento01)\n",
    "print(\"Elemento en la posición 2, 2:\", elemento02)\n"
   ]
  }
 ],
 "metadata": {
  "kernelspec": {
   "display_name": "Python 3",
   "language": "python",
   "name": "python3"
  },
  "language_info": {
   "codemirror_mode": {
    "name": "ipython",
    "version": 3
   },
   "file_extension": ".py",
   "mimetype": "text/x-python",
   "name": "python",
   "nbconvert_exporter": "python",
   "pygments_lexer": "ipython3",
   "version": "3.12.1"
  }
 },
 "nbformat": 4,
 "nbformat_minor": 2
}
